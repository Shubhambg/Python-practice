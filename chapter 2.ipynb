{
 "cells": [
  {
   "cell_type": "code",
   "execution_count": 7,
   "metadata": {},
   "outputs": [
    {
     "name": "stdout",
     "output_type": "stream",
     "text": [
      "shubham\n",
      "345\n",
      "45.32\n",
      "       shubham\n",
      "       bharat \n",
      "       gadhave\n"
     ]
    }
   ],
   "source": [
    "a = 'shubham'\n",
    "d = '''       shubham\n",
    "       bharat \n",
    "       gadhave''' #(''') fro more than one line of variable\n",
    "b = 345\n",
    "c = 45.32\n",
    "print(a)\n",
    "print(b)\n",
    "print(c)\n",
    "print(d)\n"
   ]
  },
  {
   "cell_type": "code",
   "execution_count": 9,
   "metadata": {},
   "outputs": [
    {
     "name": "stdout",
     "output_type": "stream",
     "text": [
      "True\n",
      "False\n"
     ]
    }
   ],
   "source": [
    "#boolence deals with true or false\n",
    "a = True\n",
    "b = False \n",
    "print(a)\n",
    "print(b)\n"
   ]
  },
  {
   "cell_type": "code",
   "execution_count": 10,
   "metadata": {},
   "outputs": [
    {
     "name": "stdout",
     "output_type": "stream",
     "text": [
      "None\n"
     ]
    }
   ],
   "source": [
    "d = None\n",
    "print(d)\n"
   ]
  },
  {
   "cell_type": "code",
   "execution_count": 17,
   "metadata": {},
   "outputs": [
    {
     "name": "stdout",
     "output_type": "stream",
     "text": [
      "<class 'str'>\n",
      "<class 'int'>\n",
      "<class 'float'>\n",
      "<class 'NoneType'>\n",
      "<class 'bool'>\n"
     ]
    }
   ],
   "source": [
    "#type of variables\n",
    "a = \"shubham\"\n",
    "print(type(a))\n",
    "b = 453\n",
    "print(type(b))\n",
    "c = 45.02\n",
    "print(type(c))\n",
    "d = None\n",
    "print(type(d))\n",
    "f = True\n",
    "print(type(f))"
   ]
  },
  {
   "cell_type": "code",
   "execution_count": 22,
   "metadata": {},
   "outputs": [
    {
     "name": "stdout",
     "output_type": "stream",
     "text": [
      "the value of 3+5 is  8\n",
      "the value of 3+5 is  -2\n",
      "the value of 3+5 is  15\n",
      "the value of 3+5 is  0.6\n"
     ]
    }
   ],
   "source": [
    "#OPERATORS#\n",
    "\n",
    "##arethmatic operator\n",
    "\n",
    "\n",
    "a = 3\n",
    "b = 5\n",
    "print(\"the value of 3+5 is \", a+b )\n",
    "print(\"the value of 3+5 is \", a-b )\n",
    "print(\"the value of 3+5 is \", a*b )\n",
    "print(\"the value of 3+5 is \", a/b )\n"
   ]
  },
  {
   "cell_type": "code",
   "execution_count": 4,
   "metadata": {},
   "outputs": [
    {
     "name": "stdout",
     "output_type": "stream",
     "text": [
      "36\n",
      "20\n",
      "5.0\n"
     ]
    }
   ],
   "source": [
    "# assignment oprator \n",
    "a = 34\n",
    "a+=2\n",
    "print(a)\n",
    "b = 35\n",
    "b-=15\n",
    "print(b)\n",
    "c = 10\n",
    "c /= 2\n",
    "print(c)\n",
    "\n"
   ]
  },
  {
   "cell_type": "code",
   "execution_count": 9,
   "metadata": {},
   "outputs": [
    {
     "name": "stdout",
     "output_type": "stream",
     "text": [
      "False\n",
      "True\n",
      "True\n",
      "True\n"
     ]
    }
   ],
   "source": [
    "# comparison operator \n",
    "b = (4>7)\n",
    "print(b)\n",
    "# case 2\n",
    "c = (14>7)\n",
    "print(c)\n",
    "#case 3\n",
    "d = (7==7)\n",
    "print(d)\n",
    "e = (14!=7)\n",
    "print (e)\n"
   ]
  },
  {
   "cell_type": "code",
   "execution_count": 17,
   "metadata": {},
   "outputs": [
    {
     "name": "stdout",
     "output_type": "stream",
     "text": [
      "the value of bool1 and bool2 is False\n",
      "the value of bool1 or bool2 is True\n",
      "the value of not bool2 is True\n"
     ]
    }
   ],
   "source": [
    "# logical operator\n",
    "bool1 = True\n",
    "bool2 = False\n",
    "print (\"the value of bool1 and bool2 is\",(bool1 and bool2))\n",
    "print (\"the value of bool1 or bool2 is\",(bool1 or bool2))\n",
    "print (\"the value of not bool2 is\",(not bool2))"
   ]
  },
  {
   "cell_type": "code",
   "execution_count": 21,
   "metadata": {},
   "outputs": [
    {
     "name": "stdout",
     "output_type": "stream",
     "text": [
      "3439\n",
      "<class 'int'>\n"
     ]
    }
   ],
   "source": [
    "# type casting\n",
    "a = \"3434\"\n",
    "a = int(a)\n",
    "print(a+5)\n",
    "print(type(a))"
   ]
  },
  {
   "cell_type": "code",
   "execution_count": 23,
   "metadata": {},
   "outputs": [
    {
     "name": "stdout",
     "output_type": "stream",
     "text": [
      "<class 'int'>\n",
      "a\n"
     ]
    }
   ],
   "source": [
    "a = 31\n",
    "print(type(a))\n",
    "a = str(a)\n",
    "print(\"a\")\n"
   ]
  },
  {
   "cell_type": "code",
   "execution_count": 30,
   "metadata": {},
   "outputs": [
    {
     "name": "stdout",
     "output_type": "stream",
     "text": [
      "<class 'str'>\n",
      "shubham\n"
     ]
    }
   ],
   "source": [
    "# input function\n",
    "a = input(\"enter your name:\")\n",
    "print(type(a))  # input always in form of str\n",
    "print(a) "
   ]
  },
  {
   "cell_type": "code",
   "execution_count": 33,
   "metadata": {},
   "outputs": [
    {
     "name": "stdout",
     "output_type": "stream",
     "text": [
      "<class 'str'>\n",
      "<class 'int'>\n",
      "34\n"
     ]
    }
   ],
   "source": [
    "# input function\n",
    "a = input(\"enter number:\")\n",
    "print(type(a)) #shows the data type str\n",
    "a = int(a)     # convert str to int \n",
    "print(type(a)) #shows type int\n",
    "print(a) \n"
   ]
  },
  {
   "cell_type": "code",
   "execution_count": 34,
   "metadata": {},
   "outputs": [],
   "source": [
    "## practice set ##\n"
   ]
  },
  {
   "cell_type": "code",
   "execution_count": 36,
   "metadata": {},
   "outputs": [
    {
     "name": "stdout",
     "output_type": "stream",
     "text": [
      "THE SUM OF A & B IS  10\n"
     ]
    }
   ],
   "source": [
    "# ADD TWO NUMBERS \n",
    "a = 5\n",
    "b = 5\n",
    "print( \"THE SUM OF A & B IS \" ,a+b)"
   ]
  },
  {
   "cell_type": "code",
   "execution_count": 37,
   "metadata": {},
   "outputs": [
    {
     "name": "stdout",
     "output_type": "stream",
     "text": [
      "the remender when a is divided by b is 0\n"
     ]
    }
   ],
   "source": [
    "# FIND REMENDER\n",
    "a = 10\n",
    "b = 2\n",
    "print(\"the remender when a is divided by b is\",a%b)"
   ]
  },
  {
   "cell_type": "code",
   "execution_count": 38,
   "metadata": {},
   "outputs": [
    {
     "name": "stdout",
     "output_type": "stream",
     "text": [
      "<class 'str'>\n",
      "34\n"
     ]
    }
   ],
   "source": [
    "a = input(\"add number\")\n",
    "print(type(a))\n",
    "print(a)"
   ]
  },
  {
   "cell_type": "code",
   "execution_count": 40,
   "metadata": {},
   "outputs": [
    {
     "name": "stdout",
     "output_type": "stream",
     "text": [
      "False\n"
     ]
    }
   ],
   "source": [
    "p = (34>80)\n",
    "print(p)"
   ]
  },
  {
   "cell_type": "code",
   "execution_count": 41,
   "metadata": {},
   "outputs": [
    {
     "name": "stdout",
     "output_type": "stream",
     "text": [
      "False\n"
     ]
    }
   ],
   "source": [
    "a = 34\n",
    "b = 80\n",
    "print(a>b)"
   ]
  },
  {
   "cell_type": "code",
   "execution_count": 52,
   "metadata": {},
   "outputs": [
    {
     "name": "stdout",
     "output_type": "stream",
     "text": [
      "14.0\n"
     ]
    }
   ],
   "source": [
    "# avg of enterd values\n",
    "a = input(\"1st value\")\n",
    "b = input(\"2nd value\")\n",
    "a = int(a)\n",
    "b = int(b)\n",
    "avg1 = a+b\n",
    "avg2 = avg1/2 \n",
    "print(avg2)"
   ]
  },
  {
   "cell_type": "code",
   "execution_count": 53,
   "metadata": {},
   "outputs": [
    {
     "name": "stdout",
     "output_type": "stream",
     "text": [
      "the squre of given value is  25\n"
     ]
    }
   ],
   "source": [
    "# square of entered value\n",
    "a = input(\"enter value\")\n",
    "a = int(a)\n",
    "sque = a*a\n",
    "print(\"the squre of given value is \",sque)"
   ]
  }
 ],
 "metadata": {
  "interpreter": {
   "hash": "630efa8c841ed908a1871166900f0172e2d7dd1b659f6822b5f34856df3c57af"
  },
  "kernelspec": {
   "display_name": "Python 3.10.1 64-bit",
   "language": "python",
   "name": "python3"
  },
  "language_info": {
   "codemirror_mode": {
    "name": "ipython",
    "version": 3
   },
   "file_extension": ".py",
   "mimetype": "text/x-python",
   "name": "python",
   "nbconvert_exporter": "python",
   "pygments_lexer": "ipython3",
   "version": "3.10.1"
  },
  "orig_nbformat": 4
 },
 "nbformat": 4,
 "nbformat_minor": 2
}
