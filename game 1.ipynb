{
 "cells": [
  {
   "cell_type": "code",
   "execution_count": 98,
   "id": "b994b76f",
   "metadata": {},
   "outputs": [
    {
     "name": "stdout",
     "output_type": "stream",
     "text": [
      "comp turn: snake(s) water(w) or gun(g)?\n",
      "3\n",
      "your turn: snake(s) water(w) or gun(g)?g\n",
      "computer chose g\n",
      "you chose g\n",
      "the game is tie!\n"
     ]
    }
   ],
   "source": [
    "import random\n",
    "\n",
    "#snake water Gun or rock paper scissors \n",
    "def gameWin(comp,you):\n",
    "    #if two values are equal, declare a tie!\n",
    "    if comp == you:\n",
    "        return None \n",
    "    \n",
    "    # Check for all possibilities when computer chose s\n",
    "    elif comp == 's':\n",
    "        if you == 'w':\n",
    "            return False\n",
    "        \n",
    "        elif you == 'g':\n",
    "            return True\n",
    "        \n",
    "    #cheak for all posssibilities when computer chose w    \n",
    "    elif comp == 'w':\n",
    "        if you == 'g':\n",
    "            return False\n",
    "        elif you == 's':\n",
    "            return True\n",
    "    # Check for all possibilities when computer chose g    \n",
    "    elif comp == 'g':\n",
    "        if you == 's':\n",
    "            return False\n",
    "        elif you == 'w':\n",
    "            return True\n",
    "        \n",
    "print(\"comp turn: snake(s) water(w) or gun(g)?\")\n",
    "randNo = random.randint(1,3)\n",
    "print(randNo)\n",
    "if randNo == 1:\n",
    "    comp = 's'\n",
    "elif randNo == 2:\n",
    "    comp = 'w'\n",
    "elif randNo == 3:\n",
    "    comp = 'g'\n",
    "    \n",
    "you = input(\"your turn: snake(s) water(w) or gun(g)?\")\n",
    "a= gameWin(comp,you)\n",
    "\n",
    "print(f\"computer chose {comp}\")\n",
    "print(f\"you chose {you}\")\n",
    "\n",
    "if a == None:\n",
    "    print(\"the game is tie!\")\n",
    "elif a: \n",
    "    print(\"you win\")\n",
    "else :\n",
    "    print(\"you loos\")"
   ]
  },
  {
   "cell_type": "code",
   "execution_count": 120,
   "id": "f78dc2e5",
   "metadata": {},
   "outputs": [
    {
     "name": "stdout",
     "output_type": "stream",
     "text": [
      "46\n"
     ]
    }
   ],
   "source": [
    "import random\n",
    "def game():\n",
    "    pass\n",
    "randNo = random.randint(1,50)\n",
    "print(randNo)"
   ]
  }
 ],
 "metadata": {
  "kernelspec": {
   "display_name": "Python 3 (ipykernel)",
   "language": "python",
   "name": "python3"
  },
  "language_info": {
   "codemirror_mode": {
    "name": "ipython",
    "version": 3
   },
   "file_extension": ".py",
   "mimetype": "text/x-python",
   "name": "python",
   "nbconvert_exporter": "python",
   "pygments_lexer": "ipython3",
   "version": "3.9.7"
  }
 },
 "nbformat": 4,
 "nbformat_minor": 5
}
