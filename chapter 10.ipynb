{
 "cells": [
  {
   "cell_type": "code",
   "execution_count": null,
   "id": "1a9b6aed",
   "metadata": {},
   "outputs": [],
   "source": [
    "##### OBJECT ORIEBTED PROGRAMMING ######"
   ]
  },
  {
   "cell_type": "code",
   "execution_count": null,
   "id": "92b257b7",
   "metadata": {},
   "outputs": [],
   "source": [
    "#  solving a problem by creating is one of the most popular approches--\n",
    "# in programming this is called object orientd programming "
   ]
  },
  {
   "cell_type": "code",
   "execution_count": 1,
   "id": "6592c801",
   "metadata": {},
   "outputs": [
    {
     "name": "stdout",
     "output_type": "stream",
     "text": [
      "sum of a and b is  46\n"
     ]
    }
   ],
   "source": [
    "a = 12\n",
    "b = 34\n",
    "\n",
    "print(\"sum of a and b is \", a+b)"
   ]
  },
  {
   "cell_type": "code",
   "execution_count": 2,
   "id": "25887be0",
   "metadata": {},
   "outputs": [
    {
     "name": "stdout",
     "output_type": "stream",
     "text": [
      "46\n"
     ]
    }
   ],
   "source": [
    "class number:\n",
    "    def sum(self):\n",
    "        return self.a + self.b\n",
    "num = number()\n",
    "num.a = 12\n",
    "num.b = 34\n",
    "s= num.sum()\n",
    "print(s)"
   ]
  },
  {
   "cell_type": "code",
   "execution_count": null,
   "id": "2dc40b00",
   "metadata": {},
   "outputs": [],
   "source": [
    "# pascalCase\n",
    "# EmployeeName --> PascalCase\n",
    "\n",
    "# camelCase\n",
    "# isNumeric, isFloatOrInt  --> camleCase"
   ]
  },
  {
   "cell_type": "code",
   "execution_count": null,
   "id": "ab67d2e4",
   "metadata": {},
   "outputs": [],
   "source": [
    "### class (templet)"
   ]
  },
  {
   "cell_type": "code",
   "execution_count": 30,
   "id": "dfdf1931",
   "metadata": {},
   "outputs": [
    {
     "name": "stdout",
     "output_type": "stream",
     "text": [
      "Name is shubham\n",
      "Name of train is shubham Rajdhani Express\n"
     ]
    }
   ],
   "source": [
    "## oops \n",
    "class RailwaysForm:\n",
    "    formType = \"RailwayForm\"\n",
    "    def printData(self):\n",
    "        print(f\"Name is {self.name}\")\n",
    "        print(f\"Name of train is shubham {self.train}\")\n",
    "        \n",
    "shubhamsApplication = RailwaysForm()\n",
    "shubhamsApplication.name = \"shubham\"\n",
    "shubhamsApplication.train = \"Rajdhani Express\"\n",
    "shubhamsApplication.printData()\n"
   ]
  },
  {
   "cell_type": "code",
   "execution_count": 31,
   "id": "0ec2e36e",
   "metadata": {},
   "outputs": [
    {
     "data": {
      "text/html": [
       "<div>\n",
       "<style scoped>\n",
       "    .dataframe tbody tr th:only-of-type {\n",
       "        vertical-align: middle;\n",
       "    }\n",
       "\n",
       "    .dataframe tbody tr th {\n",
       "        vertical-align: top;\n",
       "    }\n",
       "\n",
       "    .dataframe thead th {\n",
       "        text-align: right;\n",
       "    }\n",
       "</style>\n",
       "<table border=\"1\" class=\"dataframe\">\n",
       "  <thead>\n",
       "    <tr style=\"text-align: right;\">\n",
       "      <th></th>\n",
       "    </tr>\n",
       "  </thead>\n",
       "  <tbody>\n",
       "  </tbody>\n",
       "</table>\n",
       "</div>"
      ],
      "text/plain": [
       "Empty DataFrame\n",
       "Columns: []\n",
       "Index: []"
      ]
     },
     "execution_count": 31,
     "metadata": {},
     "output_type": "execute_result"
    }
   ],
   "source": [
    "import pandas as pd\n",
    "\n",
    "pd.DataFrame()"
   ]
  },
  {
   "cell_type": "code",
   "execution_count": 35,
   "id": "94601fab",
   "metadata": {
    "collapsed": true
   },
   "outputs": [
    {
     "ename": "NameError",
     "evalue": "name 'Player' is not defined",
     "output_type": "error",
     "traceback": [
      "\u001b[1;31m---------------------------------------------------------------------------\u001b[0m",
      "\u001b[1;31mNameError\u001b[0m                                 Traceback (most recent call last)",
      "\u001b[1;32m~\\AppData\\Local\\Temp/ipykernel_32880/1874730924.py\u001b[0m in \u001b[0;36m<module>\u001b[1;34m\u001b[0m\n\u001b[0;32m     11\u001b[0m \u001b[1;33m\u001b[0m\u001b[0m\n\u001b[0;32m     12\u001b[0m \u001b[0mremote1\u001b[0m \u001b[1;33m=\u001b[0m \u001b[0mRemote\u001b[0m\u001b[1;33m(\u001b[0m\u001b[1;33m)\u001b[0m\u001b[1;33m\u001b[0m\u001b[1;33m\u001b[0m\u001b[0m\n\u001b[1;32m---> 13\u001b[1;33m \u001b[0mplayer1\u001b[0m \u001b[1;33m=\u001b[0m \u001b[0mPlayer\u001b[0m\u001b[1;33m(\u001b[0m\u001b[1;33m)\u001b[0m\u001b[1;33m\u001b[0m\u001b[1;33m\u001b[0m\u001b[0m\n\u001b[0m\u001b[0;32m     14\u001b[0m \u001b[1;33m\u001b[0m\u001b[0m\n\u001b[0;32m     15\u001b[0m \u001b[1;32mif\u001b[0m \u001b[1;33m(\u001b[0m\u001b[0mremote1\u001b[0m\u001b[1;33m.\u001b[0m\u001b[0misLeftPressed\u001b[0m\u001b[1;33m(\u001b[0m\u001b[1;33m)\u001b[0m\u001b[1;33m)\u001b[0m\u001b[1;33m:\u001b[0m\u001b[1;33m\u001b[0m\u001b[1;33m\u001b[0m\u001b[0m\n",
      "\u001b[1;31mNameError\u001b[0m: name 'Player' is not defined"
     ]
    }
   ],
   "source": [
    "class Remote():\n",
    "    pass \n",
    "\n",
    "class player:\n",
    "    def moveRight(self):\n",
    "        pass\n",
    "    def moveLeft(self):\n",
    "        pass\n",
    "    def moveTop(self):\n",
    "        pass\n",
    "    \n",
    "remote1 = Remote()    \n",
    "player1 = Player()\n",
    "\n",
    "if (remote1.isLeftPressed()):\n",
    "    player1.moveleft()"
   ]
  },
  {
   "cell_type": "code",
   "execution_count": null,
   "id": "f7f3ea43",
   "metadata": {},
   "outputs": [],
   "source": [
    "### class attribute\n",
    "# an attribute that belongs to class rather than a prticular object"
   ]
  },
  {
   "cell_type": "code",
   "execution_count": 5,
   "id": "730fd0b1",
   "metadata": {},
   "outputs": [
    {
     "name": "stdout",
     "output_type": "stream",
     "text": [
      "Google\n",
      "Google\n",
      "Youtube\n",
      "Youtube\n"
     ]
    }
   ],
   "source": [
    "class Employee: ## Employee is class \n",
    "    company = \"Google\"\n",
    "    \n",
    "shubham = Employee()\n",
    "rani = Employee()\n",
    "print(shubham.company)\n",
    "print(rani.company)\n",
    "Employee.company = \"Youtube\"  ## we can change using class attibute\n",
    "print(shubham.company)\n",
    "print(rani.company)"
   ]
  },
  {
   "cell_type": "code",
   "execution_count": null,
   "id": "81a0cf31",
   "metadata": {},
   "outputs": [],
   "source": [
    "# instance attribute  - \n",
    "#ex - "
   ]
  },
  {
   "cell_type": "code",
   "execution_count": 6,
   "id": "da4e483e",
   "metadata": {},
   "outputs": [
    {
     "name": "stdout",
     "output_type": "stream",
     "text": [
      "Google\n",
      "Google\n",
      "Youtube\n",
      "Youtube\n",
      "300\n",
      "400\n"
     ]
    }
   ],
   "source": [
    "class Employee: ## Employee is class \n",
    "    company = \"Google\"\n",
    "    \n",
    "shubham = Employee()\n",
    "rani = Employee()\n",
    "shubham.salary = 300 #example of instance attribute\n",
    "rani.salary = 400  #example of instance attribute\n",
    "\n",
    "print(shubham.company)\n",
    "print(rani.company)\n",
    "Employee.company = \"Youtube\"  ## we can change using class attibute\n",
    "print(shubham.company)\n",
    "print(rani.company)\n",
    "print(shubham.salary)\n",
    "print(rani.salary)"
   ]
  },
  {
   "cell_type": "code",
   "execution_count": 12,
   "id": "9201053d",
   "metadata": {},
   "outputs": [
    {
     "name": "stdout",
     "output_type": "stream",
     "text": [
      "45\n",
      "100\n"
     ]
    }
   ],
   "source": [
    "# instance class attribute\n",
    "class Employee: ## Employee is class \n",
    "    company = \"Google\"\n",
    "    salary = 100\n",
    "    \n",
    "shubham = Employee()\n",
    "rani = Employee()\n",
    "# if we remove instance attribute then it will show class attribute \n",
    "# shubham.salary = 300 #instance attribute\n",
    "# rani.salary = 400  #instance attribute\n",
    "shubham.salary = 45 #instance attribute added\n",
    "print(shubham.salary)\n",
    "print(rani.salary)\n",
    "\n",
    "\n",
    "#print(rani.address) ## it will show attribute error"
   ]
  },
  {
   "cell_type": "code",
   "execution_count": 35,
   "id": "c45553f2",
   "metadata": {},
   "outputs": [
    {
     "name": "stdout",
     "output_type": "stream",
     "text": [
      "salary for this employee working in google is 100000\n"
     ]
    }
   ],
   "source": [
    "# self \n",
    "# refoers to the instance of the calss\n",
    "class Employee:\n",
    "    company = \"google\"\n",
    "    def getsalary(self):\n",
    "        print(f\"salary for this employee working in {self.company} is {self.salary}\")\n",
    "        \n",
    "shubham = Employee()\n",
    "shubham.salary = 100000\n",
    "shubham.getsalary()\n",
    "#Employee.getSalary(shubham)"
   ]
  },
  {
   "cell_type": "code",
   "execution_count": 1,
   "id": "794c4087",
   "metadata": {},
   "outputs": [],
   "source": [
    "### static method "
   ]
  },
  {
   "cell_type": "code",
   "execution_count": 36,
   "id": "ba33d7fc",
   "metadata": {},
   "outputs": [
    {
     "name": "stdout",
     "output_type": "stream",
     "text": [
      "good morning, sir\n",
      "the time is 9am is morning\n"
     ]
    }
   ],
   "source": [
    "class Employee:\n",
    "    compony = \"Google\"\n",
    "    \n",
    "    @staticmethod\n",
    "    def greet():\n",
    "        print(\"good morning, sir\")\n",
    "        \n",
    "    @staticmethod\n",
    "    def time():\n",
    "        print(\"the time is 9am is morning\")\n",
    "            \n",
    "shubham = Employee()\n",
    "shubham.greet()\n",
    "shubham.time()\n"
   ]
  },
  {
   "cell_type": "code",
   "execution_count": null,
   "id": "7144d306",
   "metadata": {},
   "outputs": [],
   "source": [
    "## constructor\n",
    "# __int__()"
   ]
  },
  {
   "cell_type": "code",
   "execution_count": null,
   "id": "d7dca62e",
   "metadata": {},
   "outputs": [],
   "source": [
    "# is special methid which is first as soons as the object is created \n"
   ]
  },
  {
   "cell_type": "code",
   "execution_count": 12,
   "id": "ec24ade1",
   "metadata": {},
   "outputs": [
    {
     "ename": "SyntaxError",
     "evalue": "EOL while scanning string literal (Temp/ipykernel_17900/1315779543.py, line 9)",
     "output_type": "error",
     "traceback": [
      "\u001b[1;36m  File \u001b[1;32m\"C:\\Users\\Shubham\\AppData\\Local\\Temp/ipykernel_17900/1315779543.py\"\u001b[1;36m, line \u001b[1;32m9\u001b[0m\n\u001b[1;33m    print(f\"salary for this employee is {self.company}{self.salary}\\n\u001b[0m\n\u001b[1;37m                                                                     ^\u001b[0m\n\u001b[1;31mSyntaxError\u001b[0m\u001b[1;31m:\u001b[0m EOL while scanning string literal\n"
     ]
    }
   ],
   "source": [
    "class Employee:\n",
    "    compony = \"Google\"\n",
    "    \n",
    "    def getDetail(self):\n",
    "        print(f\"the name of the empolee is{self.name}\")\n",
    "        print(f\"the salary   empolee is{self.salary}\")\n",
    "        print(f\"the name of the empolee is{self.subunit}\")\n",
    "    def getsalary (self, signature):\n",
    "        print(f\"salary for this employee is {self.company}{self.salary}\\n\n",
    "        {signature)\")\n",
    "    \n",
    "    @staticmethod\n",
    "    def great():\n",
    "        print(\"good morning. sir\")\n",
    "\n",
    "    @staticmethod\n",
    "    def time():\n",
    "        print(\"the time is 9AM in the morning\")\n",
    "        \n",
    "shubham = Employee(\"shubham\",100,\"youtube\")\n",
    "shubham.getDetail()"
   ]
  },
  {
   "cell_type": "code",
   "execution_count": null,
   "id": "215a56f5",
   "metadata": {},
   "outputs": [],
   "source": [
    "#practice set"
   ]
  },
  {
   "cell_type": "code",
   "execution_count": 24,
   "id": "3a588d11",
   "metadata": {},
   "outputs": [
    {
     "name": "stdout",
     "output_type": "stream",
     "text": [
      "the name of the Microsoft programmer is shubham and the product is skype\n",
      "the name of the Microsoft programmer is rani and the product is Github\n"
     ]
    }
   ],
   "source": [
    "class Programmer:\n",
    "    company = \"Microsoft\"\n",
    "    \n",
    "    def __init__(self, name, product):\n",
    "        self.name = name\n",
    "        self.product= product\n",
    "        \n",
    "    def getInfo(self):\n",
    "        print(f\"the name of the {self.company} programmer is {self.name} and the product is {self.product}\")\n",
    "        \n",
    "shubham = Programmer(\"shubham\", \"skype\")\n",
    "rani = Programmer(\"rani\",\"Github\")\n",
    "shubham.getInfo()\n",
    "rani.getInfo()"
   ]
  },
  {
   "cell_type": "code",
   "execution_count": 32,
   "id": "044dbdee",
   "metadata": {},
   "outputs": [
    {
     "name": "stdout",
     "output_type": "stream",
     "text": [
      "the value of 3 sqaure is 9\n",
      "the value of 3 squareroot is 1.7320508075688772\n",
      "the value of 3 sqaure is 27\n"
     ]
    }
   ],
   "source": [
    "class Calculator:\n",
    "    def __init__(self, num):\n",
    "        self.number = num\n",
    "        \n",
    "    def square(self):\n",
    "        print(f\"the value of {self.number} sqaure is {self.number **2}\")\n",
    "    \n",
    "    def squareRoot(self):\n",
    "        print(f\"the value of {self.number} squareroot is {self.number **0.5}\")\n",
    "    \n",
    "    def cube(self):\n",
    "        print(f\"the value of {self.number} sqaure is {self.number **3}\")\n",
    "    \n",
    "a = Calculator(3)\n",
    "a.square()\n",
    "a.squareRoot()\n",
    "a.cube()                  "
   ]
  },
  {
   "cell_type": "code",
   "execution_count": 34,
   "id": "ce1fb2c8",
   "metadata": {},
   "outputs": [
    {
     "name": "stdout",
     "output_type": "stream",
     "text": [
      "shubham\n",
      "abhi\n"
     ]
    }
   ],
   "source": [
    "class Sample:\n",
    "    a = \"shubham\"\n",
    "    \n",
    "obj = Sample()\n",
    "obj.a=\"abhi\"\n",
    "\n",
    "print(Sample.a)\n",
    "print(obj.a) ##no it dosent change class attribute"
   ]
  },
  {
   "cell_type": "code",
   "execution_count": 38,
   "id": "4ccca560",
   "metadata": {},
   "outputs": [
    {
     "name": "stdout",
     "output_type": "stream",
     "text": [
      "hello there welcome to the best calculator of the world\n",
      "the value of 3 sqaure is 9\n",
      "the value of 3 squareroot is 1.7320508075688772\n",
      "the value of 3 sqaure is 27\n"
     ]
    }
   ],
   "source": [
    "class Calculator:\n",
    "    def __init__(self, num):\n",
    "        self.number = num\n",
    "        \n",
    "    def square(self):\n",
    "        print(f\"the value of {self.number} sqaure is {self.number **2}\")\n",
    "    \n",
    "    def squareRoot(self):\n",
    "        print(f\"the value of {self.number} squareroot is {self.number **0.5}\")\n",
    "    \n",
    "    def cube(self):\n",
    "        print(f\"the value of {self.number} sqaure is {self.number **3}\")\n",
    "    \n",
    "    @staticmethod\n",
    "    def greet():\n",
    "        print(\"hello there welcome to the best calculator of the world\")\n",
    "\n",
    "a = Calculator(3)\n",
    "a.greet()\n",
    "a.square()\n",
    "a.squareRoot()\n",
    "a.cube()           \n"
   ]
  },
  {
   "cell_type": "code",
   "execution_count": 69,
   "id": "4ec4b820",
   "metadata": {},
   "outputs": [
    {
     "name": "stdout",
     "output_type": "stream",
     "text": [
      "***************\n",
      "the name of the train is Intercity Express: 14015\n",
      "the seat avilable in the train are 3\n",
      "***************\n",
      "your ticket has been booked! your seat no is 3\n",
      "your ticket has been booked! your seat no is 2\n",
      "your ticket has been booked! your seat no is 1\n",
      "this train is full\n",
      "this train is full\n",
      "***************\n",
      "the name of the train is Intercity Express: 14015\n",
      "the seat avilable in the train are 0\n",
      "***************\n"
     ]
    }
   ],
   "source": [
    "class Train:\n",
    "    def __init__(self, name, fare,seats):\n",
    "        self.name = name\n",
    "        self.fare = fare\n",
    "        self.seats = seats\n",
    "        \n",
    "    def getStatus(self):\n",
    "        print(\"***************\")\n",
    "        print(f\"the name of the train is {self.name}\")\n",
    "        print(f\"the seat avilable in the train are {self.seats}\")\n",
    "        print(\"***************\")\n",
    "        \n",
    "    def fareInfo(self):\n",
    "        print(f\"the price of the ticket is Rs. {self.fare}\")\n",
    "        \n",
    "    def bookTicket(self):\n",
    "        if(self.seats>0):\n",
    "            print(f\"your ticket has been booked! your seat no is {self.seats}\")\n",
    "            self.seats = self.seats - 1\n",
    "        else:\n",
    "            print(\"this train is full\")\n",
    "            \n",
    "#     def cancelTicket(selfNo\n",
    "#         pass \n",
    "intercity = Train(\"Intercity Express: 14015\", 90, 3)\n",
    "intercity.getStatus()\n",
    "# intercity.fareInfo()\n",
    "intercity.bookTicket()\n",
    "intercity.bookTicket()\n",
    "intercity.bookTicket()\n",
    "intercity.bookTicket()\n",
    "intercity.bookTicket()\n",
    "\n",
    "intercity.getStatus()"
   ]
  },
  {
   "cell_type": "code",
   "execution_count": 73,
   "id": "bb285c27",
   "metadata": {},
   "outputs": [
    {
     "name": "stdout",
     "output_type": "stream",
     "text": [
      "shubham\n"
     ]
    }
   ],
   "source": [
    "class Sample:\n",
    "    def __init__(self, name):\n",
    "        self.name = name\n",
    "    \n",
    "obj = Sample(\"shubham\")\n",
    "obj.a=\"abhi\"\n",
    "print(obj.name)"
   ]
  }
 ],
 "metadata": {
  "kernelspec": {
   "display_name": "Python 3 (ipykernel)",
   "language": "python",
   "name": "python3"
  },
  "language_info": {
   "codemirror_mode": {
    "name": "ipython",
    "version": 3
   },
   "file_extension": ".py",
   "mimetype": "text/x-python",
   "name": "python",
   "nbconvert_exporter": "python",
   "pygments_lexer": "ipython3",
   "version": "3.9.7"
  }
 },
 "nbformat": 4,
 "nbformat_minor": 5
}
