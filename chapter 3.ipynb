{
 "cells": [
  {
   "cell_type": "code",
   "execution_count": 1,
   "id": "0af417af",
   "metadata": {},
   "outputs": [
    {
     "name": "stdout",
     "output_type": "stream",
     "text": [
      "shubham\n",
      "shubham\n",
      "shubham gadhave\n",
      "AIDS\n"
     ]
    }
   ],
   "source": [
    "# stirngs\n",
    "print('shubham')\n",
    "print(\"shubham\")\n",
    "print('''shubham gadhave\n",
    "AIDS''')"
   ]
  },
  {
   "cell_type": "code",
   "execution_count": 3,
   "id": "67f084d6",
   "metadata": {},
   "outputs": [
    {
     "name": "stdout",
     "output_type": "stream",
     "text": [
      "s\n",
      "a\n"
     ]
    }
   ],
   "source": [
    "# string slicing\n",
    "a = \"shubham\"\n",
    "print(a[0])\n",
    "print(a[5])"
   ]
  },
  {
   "cell_type": "code",
   "execution_count": 4,
   "id": "f0ca11a0",
   "metadata": {},
   "outputs": [
    {
     "name": "stdout",
     "output_type": "stream",
     "text": [
      "good morning,shubham\n"
     ]
    }
   ],
   "source": [
    "# adding two strings\n",
    "a = \"good morning,\"\n",
    "b = \"shubham\"\n",
    "print(a+b)"
   ]
  },
  {
   "cell_type": "code",
   "execution_count": 5,
   "id": "65eec510",
   "metadata": {},
   "outputs": [
    {
     "name": "stdout",
     "output_type": "stream",
     "text": [
      "<class 'str'>\n"
     ]
    }
   ],
   "source": [
    "a = \"shubham\"\n",
    "print(type(a))\n"
   ]
  },
  {
   "cell_type": "code",
   "execution_count": 9,
   "id": "3c368439",
   "metadata": {},
   "outputs": [
    {
     "name": "stdout",
     "output_type": "stream",
     "text": [
      "shu\n",
      "shubh\n",
      "ub\n"
     ]
    }
   ],
   "source": [
    "# string slicing\n",
    "name = \"shubham\"\n",
    "print(name[0:3])\n",
    "print(name[0:5])\n",
    "print(name[2:4])"
   ]
  },
  {
   "cell_type": "code",
   "execution_count": 10,
   "id": "c173a124",
   "metadata": {},
   "outputs": [
    {
     "name": "stdout",
     "output_type": "stream",
     "text": [
      "shubha\n"
     ]
    }
   ],
   "source": [
    "# nagative indexing\n",
    "name = \"shubham\"\n",
    "print(name[0:-1])"
   ]
  },
  {
   "cell_type": "code",
   "execution_count": 13,
   "id": "5e9b0c0a",
   "metadata": {},
   "outputs": [
    {
     "name": "stdout",
     "output_type": "stream",
     "text": [
      "hubham\n"
     ]
    }
   ],
   "source": [
    "# blank\n",
    "name = \"shubham\"\n",
    "print(name[1:])"
   ]
  },
  {
   "cell_type": "code",
   "execution_count": 15,
   "id": "e4d80fbd",
   "metadata": {},
   "outputs": [
    {
     "name": "stdout",
     "output_type": "stream",
     "text": [
      "ubha\n"
     ]
    }
   ],
   "source": [
    "#  nagativre indexing\n",
    "a = \"shubham\"\n",
    "print(a[-5:-1])"
   ]
  },
  {
   "cell_type": "code",
   "execution_count": 19,
   "id": "bb44951c",
   "metadata": {},
   "outputs": [
    {
     "name": "stdout",
     "output_type": "stream",
     "text": [
      "hbaigo\n"
     ]
    }
   ],
   "source": [
    "# slicing with skip value\n",
    "a = \"shubhamisgood\"\n",
    "d = a[1::2]\n",
    "print(d)"
   ]
  },
  {
   "cell_type": "code",
   "execution_count": 21,
   "id": "7b450794",
   "metadata": {},
   "outputs": [
    {
     "name": "stdout",
     "output_type": "stream",
     "text": [
      "44\n"
     ]
    }
   ],
   "source": [
    "# string function\n",
    "a = \"my name is shuham im great what do you think\"\n",
    "print(len(a)) #to find length of syntax\n"
   ]
  },
  {
   "cell_type": "code",
   "execution_count": 25,
   "id": "6709c062",
   "metadata": {},
   "outputs": [
    {
     "name": "stdout",
     "output_type": "stream",
     "text": [
      "True\n",
      "False\n"
     ]
    }
   ],
   "source": [
    "# string ends with\n",
    "a = \"my name is shuham im great what do you think\"\n",
    "print(a.endswith(\"think\"))\n",
    "print(a.endswith(\"you\"))"
   ]
  },
  {
   "cell_type": "code",
   "execution_count": 29,
   "id": "bd5363e7",
   "metadata": {},
   "outputs": [
    {
     "name": "stdout",
     "output_type": "stream",
     "text": [
      "3\n",
      "4\n",
      "4\n",
      "1\n",
      "2\n"
     ]
    }
   ],
   "source": [
    "# string count\n",
    "a = \"my name is shuham im great what do you is think\"\n",
    "print(a.count(\"s\"))\n",
    "print(a.count(\"a\"))\n",
    "print(a.count(\"m\"))\n",
    "print(a.count(\"d\"))\n",
    "print(a.count(\"is\"))"
   ]
  },
  {
   "cell_type": "code",
   "execution_count": 36,
   "id": "6b2bd739",
   "metadata": {},
   "outputs": [
    {
     "name": "stdout",
     "output_type": "stream",
     "text": [
      "My name is shuham im great what do you think\n"
     ]
    }
   ],
   "source": [
    "# string capitalize\n",
    "a = \"my name is shuham im great what do you think\"\n",
    "print(a.capitalize())"
   ]
  },
  {
   "cell_type": "code",
   "execution_count": 35,
   "id": "da561b3e",
   "metadata": {},
   "outputs": [
    {
     "name": "stdout",
     "output_type": "stream",
     "text": [
      "8\n",
      "0\n"
     ]
    }
   ],
   "source": [
    "# string find\n",
    "a = \"my name is shuham im great what do you think\"\n",
    "print(a.find(\"is\"))\n",
    "print(a.find(\"my\"))"
   ]
  },
  {
   "cell_type": "code",
   "execution_count": 38,
   "id": "0b517dd2",
   "metadata": {},
   "outputs": [
    {
     "name": "stdout",
     "output_type": "stream",
     "text": [
      "my name is shubhz im great what do you think\n"
     ]
    }
   ],
   "source": [
    "# replace\n",
    "a = \"my name is shubham im great what do you think\"\n",
    "print(a.replace(\"shubham\",\"shubhz\"))"
   ]
  },
  {
   "cell_type": "code",
   "execution_count": 40,
   "id": "cfaace68",
   "metadata": {},
   "outputs": [
    {
     "name": "stdout",
     "output_type": "stream",
     "text": [
      "my name is shuham im great. \n",
      "what do you is think\n"
     ]
    }
   ],
   "source": [
    "# escape sequnce\n",
    "a = \"my name is shuham im great. \\nwhat do you is think\"\n",
    "print(a)"
   ]
  },
  {
   "cell_type": "code",
   "execution_count": null,
   "id": "56c2078c",
   "metadata": {},
   "outputs": [],
   "source": []
  }
 ],
 "metadata": {
  "kernelspec": {
   "display_name": "Python 3 (ipykernel)",
   "language": "python",
   "name": "python3"
  },
  "language_info": {
   "codemirror_mode": {
    "name": "ipython",
    "version": 3
   },
   "file_extension": ".py",
   "mimetype": "text/x-python",
   "name": "python",
   "nbconvert_exporter": "python",
   "pygments_lexer": "ipython3",
   "version": "3.9.7"
  }
 },
 "nbformat": 4,
 "nbformat_minor": 5
}
