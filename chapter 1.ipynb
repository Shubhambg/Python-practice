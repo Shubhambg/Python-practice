{
 "cells": [
  {
   "cell_type": "code",
   "execution_count": 25,
   "metadata": {},
   "outputs": [
    {
     "name": "stdout",
     "output_type": "stream",
     "text": [
      "hello world\n"
     ]
    }
   ],
   "source": [
    "# this is comment showing that use of (#) is for commments \n",
    "import os \n",
    "print (\"hello world\") # to print the hello world"
   ]
  },
  {
   "cell_type": "code",
   "execution_count": 26,
   "metadata": {},
   "outputs": [
    {
     "name": "stdout",
     "output_type": "stream",
     "text": [
      "hello world\n"
     ]
    }
   ],
   "source": [
    "'''this is for multi line comment\n",
    "in this we can give multiline comments like this\n",
    "im shubham'''\n",
    "print(\"hello world\")"
   ]
  },
  {
   "cell_type": "code",
   "execution_count": 27,
   "metadata": {},
   "outputs": [
    {
     "name": "stdout",
     "output_type": "stream",
     "text": [
      "Twinkle, twinkle, little star\n",
      "       How I wonder what you are\n",
      "       Up above the world so high\n",
      "       Like a diamond in the sky\n",
      "       Twinkle, twinkle, little star\n"
     ]
    }
   ],
   "source": [
    "# prctice of chapter one\n",
    "# que-1\n",
    "#poem\n",
    "print('''Twinkle, twinkle, little star\n",
    "       How I wonder what you are\n",
    "       Up above the world so high\n",
    "       Like a diamond in the sky\n",
    "       Twinkle, twinkle, little star''')"
   ]
  },
  {
   "cell_type": "code",
   "execution_count": 28,
   "metadata": {},
   "outputs": [
    {
     "name": "stdout",
     "output_type": "stream",
     "text": [
      "a\n"
     ]
    }
   ],
   "source": [
    "# prctice of chapter one\n",
    "# que-2\n",
    "#table of 5\n",
    "a = (5*1)\n",
    "print(\"a\")"
   ]
  },
  {
   "cell_type": "code",
   "execution_count": 29,
   "metadata": {},
   "outputs": [
    {
     "ename": "SyntaxError",
     "evalue": "(unicode error) 'unicodeescape' codec can't decode bytes in position 2-3: truncated \\UXXXXXXXX escape (Temp/ipykernel_12368/2062609601.py, line 2)",
     "output_type": "error",
     "traceback": [
      "\u001b[1;36m  File \u001b[1;32m\"C:\\Users\\Shubham\\AppData\\Local\\Temp/ipykernel_12368/2062609601.py\"\u001b[1;36m, line \u001b[1;32m2\u001b[0m\n\u001b[1;33m    playsound ('C:\\Users\\Shubham\\OneDrive\\Desktop\\python harry\\Heer Raanjhana Bachchhan Paandey 128 Kbps.mp3')\u001b[0m\n\u001b[1;37m                                                                                                             ^\u001b[0m\n\u001b[1;31mSyntaxError\u001b[0m\u001b[1;31m:\u001b[0m (unicode error) 'unicodeescape' codec can't decode bytes in position 2-3: truncated \\UXXXXXXXX escape\n"
     ]
    }
   ],
   "source": [
    "from playsound import playsound\n",
    "playsound ('C:\\Users\\Shubham\\OneDrive\\Desktop\\python harry\\Heer Raanjhana Bachchhan Paandey 128 Kbps.mp3')"
   ]
  },
  {
   "cell_type": "code",
   "execution_count": 30,
   "metadata": {},
   "outputs": [
    {
     "name": "stdout",
     "output_type": "stream",
     "text": [
      "['chaptor 1.ipynb', 'Data science road map.pdf', 'Heer Raanjhana Bachchhan Paandey 128 Kbps.mp3', 'Python Course with Notes.zip']\n"
     ]
    }
   ],
   "source": [
    "#que 4\n",
    "# lable \n",
    "import os\n",
    "print(os.listdir())"
   ]
  }
 ],
 "metadata": {
  "interpreter": {
   "hash": "630efa8c841ed908a1871166900f0172e2d7dd1b659f6822b5f34856df3c57af"
  },
  "kernelspec": {
   "display_name": "Python 3.10.1 64-bit",
   "language": "python",
   "name": "python3"
  },
  "language_info": {
   "codemirror_mode": {
    "name": "ipython",
    "version": 3
   },
   "file_extension": ".py",
   "mimetype": "text/x-python",
   "name": "python",
   "nbconvert_exporter": "python",
   "pygments_lexer": "ipython3",
   "version": "3.10.1"
  },
  "orig_nbformat": 4
 },
 "nbformat": 4,
 "nbformat_minor": 2
}
