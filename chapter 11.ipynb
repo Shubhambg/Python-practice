{
 "cells": [
  {
   "cell_type": "code",
   "execution_count": 1,
   "id": "5b139366",
   "metadata": {},
   "outputs": [
    {
     "name": "stdout",
     "output_type": "stream",
     "text": [
      "8\n"
     ]
    }
   ],
   "source": [
    "a = 5\n",
    "b = 3\n",
    "print(a+b) "
   ]
  },
  {
   "cell_type": "code",
   "execution_count": 2,
   "id": "6c29d6eb",
   "metadata": {},
   "outputs": [
    {
     "name": "stdout",
     "output_type": "stream",
     "text": [
      "shubahm\n"
     ]
    }
   ],
   "source": [
    "print(\"shubahm\")"
   ]
  },
  {
   "cell_type": "code",
   "execution_count": 13,
   "id": "7f62ef77",
   "metadata": {},
   "outputs": [
    {
     "name": "stdout",
     "output_type": "stream",
     "text": [
      "this is an employee\n",
      "this is an programmer\n",
      "youtube\n"
     ]
    }
   ],
   "source": [
    "class Employee:\n",
    "    compony = \"google\"\n",
    "    \n",
    "    def showDetails(self):\n",
    "        print(\"this is an employee\")\n",
    "        \n",
    "class Programmer (Employee):\n",
    "    language = \"python\"\n",
    "    compony = \"youtube\"\n",
    "    \n",
    "    def getLanguage(self):\n",
    "        print(f\"the languge is{self.language}\")\n",
    "        \n",
    "    def showDetails(self):\n",
    "        print(\"this is an programmer\")\n",
    "        \n",
    "    \n",
    "e = Employee()\n",
    "e.showDetails()\n",
    "p = Programmer()\n",
    "p.showDetails()\n",
    "print(p.compony)\n",
    " "
   ]
  },
  {
   "cell_type": "code",
   "execution_count": null,
   "id": "26167d88",
   "metadata": {},
   "outputs": [],
   "source": [
    "## inharitons\n",
    "# single inharitons\n",
    "# multiple inharitons\n",
    "# multilevel inharitons\n"
   ]
  },
  {
   "cell_type": "code",
   "execution_count": null,
   "id": "8a1f1101",
   "metadata": {},
   "outputs": [],
   "source": [
    "# single inharitons\n",
    "# single inharitons occurs when child class \n",
    "#inherits only a signle present class"
   ]
  },
  {
   "cell_type": "code",
   "execution_count": 14,
   "id": "f964625b",
   "metadata": {},
   "outputs": [
    {
     "name": "stdout",
     "output_type": "stream",
     "text": [
      "this is an employee\n",
      "this is an programmer\n",
      "youtube\n"
     ]
    }
   ],
   "source": [
    "# single inharitons\n",
    "class Employee:\n",
    "    compony = \"google\"\n",
    "    \n",
    "    def showDetails(self):\n",
    "        print(\"this is an employee\")\n",
    "        \n",
    "class Programmer (Employee):\n",
    "    language = \"python\"\n",
    "    compony = \"youtube\"\n",
    "    \n",
    "    def getLanguage(self):\n",
    "        print(f\"the languge is{self.language}\")\n",
    "        \n",
    "    def showDetails(self):\n",
    "        print(\"this is an programmer\")\n",
    "        \n",
    "    \n",
    "e = Employee()\n",
    "e.showDetails()\n",
    "p = Programmer()\n",
    "p.showDetails()\n",
    "print(p.compony)"
   ]
  },
  {
   "cell_type": "code",
   "execution_count": null,
   "id": "5b5bb4db",
   "metadata": {},
   "outputs": [],
   "source": [
    "# multiple inharitons\n",
    "# it occurs when child class inharits from more than one perent claas "
   ]
  },
  {
   "cell_type": "code",
   "execution_count": 29,
   "id": "42ce2c60",
   "metadata": {},
   "outputs": [
    {
     "name": "stdout",
     "output_type": "stream",
     "text": [
      "visa\n"
     ]
    }
   ],
   "source": [
    "# multiple inharitons\n",
    "class Employee:\n",
    "    company = \"visa\"\n",
    "    eCode=120\n",
    "    \n",
    "class Freelancer:\n",
    "    company = \"Fiverr\"\n",
    "    level = 0\n",
    "    \n",
    "    def upgradeLevel(self):\n",
    "        self.level = self.level + 1\n",
    "    \n",
    "class Programmer (Employee, Freelancer):\n",
    "    # frist name of class will get printed in this case \n",
    "    # Employee was first so visa printed\n",
    "    name = \"shubham\"\n",
    "    \n",
    "p = Programmer()\n",
    "p.upgradeLevel()\n",
    "print(p.company)"
   ]
  },
  {
   "cell_type": "code",
   "execution_count": 38,
   "id": "b4f19274",
   "metadata": {},
   "outputs": [
    {
     "name": "stdout",
     "output_type": "stream",
     "text": [
      "i am breathing ......\n",
      "i am an Employee so i am breathing..\n",
      "honda\n",
      "I am a programmer so i am Breathing ++\n",
      "Fiverr\n",
      "India\n"
     ]
    }
   ],
   "source": [
    "# multilevel inharitons\n",
    "class Person:\n",
    "    country = \"India\"\n",
    "    \n",
    "    def takeBreak(self):\n",
    "        print(\"i am breathing ......\")\n",
    "        \n",
    "class Employee(Person):\n",
    "    company = \"honda\"\n",
    "    \n",
    "    def gatSalary(self):\n",
    "        print(f\"salary is {self.salary}\")\n",
    "\n",
    "    def takeBreak(self):\n",
    "        print(\"i am an Employee so i am breathing..\")\n",
    "        \n",
    "class Programmer (Employee):\n",
    "    company = \"Fiverr\"\n",
    "    \n",
    "    def getSalary(salf):\n",
    "        print(f\"No salary to programmer\")\n",
    "        \n",
    "    def takeBreak(self):\n",
    "        print(\"I am a programmer so i am Breathing ++\")\n",
    "        \n",
    "p = Person()\n",
    "p.takeBreak()\n",
    "# print(p.company) ||| it will trought error\n",
    "e = Employee()\n",
    "e.takeBreak()\n",
    "print(e.company)\n",
    "pr = Programmer()\n",
    "pr.takeBreak()\n",
    "print(pr.company)\n",
    "print(pr.country)      "
   ]
  },
  {
   "cell_type": "code",
   "execution_count": 45,
   "id": "8d50642d",
   "metadata": {},
   "outputs": [
    {
     "name": "stdout",
     "output_type": "stream",
     "text": [
      "intialising Person....\n",
      "\n",
      "intializing Employee...\n",
      "\n",
      "intializing Programmer...\n",
      "\n"
     ]
    }
   ],
   "source": [
    "# super class \n",
    "# multilevel inharitons\n",
    "class Person:\n",
    "    country = \"India\"\n",
    "    \n",
    "    def __init__(self):\n",
    "        print(\"intialising Person....\\n\")\n",
    "    \n",
    "    \n",
    "    def takeBreak(self):\n",
    "        print(\"i am breathing ......\")\n",
    "        \n",
    "class Employee(Person):\n",
    "    company = \"honda\"\n",
    "    \n",
    "    \n",
    "    def __init__(self):\n",
    "        super().__init__()\n",
    "        print(\"intializing Employee...\\n\")\n",
    "        \n",
    "    def gatSalary(self):\n",
    "        print(f\"salary is {self.salary}\")\n",
    "\n",
    "    def takeBreak(self):\n",
    "        super().takeBreak()\n",
    "        print(\"i am an Employee so i am breathing..\")\n",
    "        \n",
    "class Programmer (Employee):\n",
    "    company = \"Fiverr\"\n",
    "    \n",
    "    def __init__(self):\n",
    "        super().__init__()\n",
    "        print(\"intializing Programmer...\\n\")\n",
    "    \n",
    "    def getSalary(salf):\n",
    "        print(f\"No salary to programmer\")\n",
    "        \n",
    "    def takeBreak(self):\n",
    "        super().takeBreak()\n",
    "        print(\"I am a programmer so i am Breathing ++\")\n",
    "        \n",
    "#p = Person()\n",
    "#p.takeBreak()\n",
    "# print(p.company) ||| it will trought error\n",
    "\n",
    "#e = Employee()\n",
    "#e.takeBreak()\n",
    "#print(e.company)\n",
    "\n",
    "pr = Programmer()\n",
    "#pr.takeBreak()\n",
    "#print(pr.company)\n",
    "#print(pr.country)      "
   ]
  },
  {
   "cell_type": "code",
   "execution_count": 55,
   "id": "1f6ac3a0",
   "metadata": {
    "scrolled": true
   },
   "outputs": [
    {
     "name": "stdout",
     "output_type": "stream",
     "text": [
      "100\n",
      "455\n",
      "455\n"
     ]
    }
   ],
   "source": [
    "class Employee:\n",
    "    company = \"Camel\"\n",
    "    salary = 100\n",
    "    Location = \"Delhi\"\n",
    "    \n",
    "    def changeSalary(self, sal):\n",
    "        self.__class__.salary=sal\n",
    "        # tender method \n",
    "        \n",
    "     # other method\n",
    "    @classmethod\n",
    "    def changeSalary(cls,sal):\n",
    "        cls.salary = sal\n",
    "        \n",
    "    \n",
    "    \n",
    "e = Employee()\n",
    "print(e.salary)\n",
    "e.changeSalary(455)\n",
    "print(e.salary)\n",
    "print(Employee.salary)"
   ]
  },
  {
   "cell_type": "code",
   "execution_count": 17,
   "id": "64b82211",
   "metadata": {},
   "outputs": [
    {
     "name": "stdout",
     "output_type": "stream",
     "text": [
      "6000\n",
      "5600\n",
      "200\n"
     ]
    }
   ],
   "source": [
    "class Employee:\n",
    "    company = \"bharat gas\"\n",
    "    salary = 5600\n",
    "    salarybonus = 400\n",
    "    \n",
    "    @property ## getter method\n",
    "    def totalSalary(self):\n",
    "        return self.salary + self.salarybonus\n",
    "    \n",
    "    @totalSalary.setter\n",
    "    def totalSalary(self,val):\n",
    "        self.salarybonus = val - self.salary\n",
    "    \n",
    "e = Employee()\n",
    "print(e.totalSalary)\n",
    "e.totalSalary = 5800\n",
    "print(e.salary)\n",
    "print(e.salarybonus)\n",
    "    "
   ]
  },
  {
   "cell_type": "code",
   "execution_count": 22,
   "id": "1b609baf",
   "metadata": {},
   "outputs": [
    {
     "name": "stdout",
     "output_type": "stream",
     "text": [
      "Lets add\n",
      "<built-in function sum>\n"
     ]
    }
   ],
   "source": [
    "class Number:\n",
    "    def __init__(self,num):\n",
    "        self.num = num\n",
    "        \n",
    "    def __add__(self,num2):\n",
    "        print(\"Lets add\")\n",
    "        return 300\n",
    "        \n",
    "n1 = Number(4)\n",
    "n2 = Number(6)\n",
    "n1 + n2\n",
    "print(sum)"
   ]
  },
  {
   "cell_type": "code",
   "execution_count": null,
   "id": "e2f27c4d",
   "metadata": {},
   "outputs": [],
   "source": []
  }
 ],
 "metadata": {
  "kernelspec": {
   "display_name": "Python 3 (ipykernel)",
   "language": "python",
   "name": "python3"
  },
  "language_info": {
   "codemirror_mode": {
    "name": "ipython",
    "version": 3
   },
   "file_extension": ".py",
   "mimetype": "text/x-python",
   "name": "python",
   "nbconvert_exporter": "python",
   "pygments_lexer": "ipython3",
   "version": "3.9.7"
  }
 },
 "nbformat": 4,
 "nbformat_minor": 5
}
