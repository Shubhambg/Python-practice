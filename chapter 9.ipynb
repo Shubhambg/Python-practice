{
 "cells": [
  {
   "cell_type": "code",
   "execution_count": null,
   "id": "7c2f4c4f",
   "metadata": {},
   "outputs": [],
   "source": [
    "                       ##### chapter 9 ##### file I/O"
   ]
  },
  {
   "cell_type": "code",
   "execution_count": null,
   "id": "bacd1ac4",
   "metadata": {},
   "outputs": [],
   "source": [
    "#  file is data started in a storage device a python program can--\n",
    "#  --talk to file by reading contect from it and writing content to it"
   ]
  },
  {
   "cell_type": "code",
   "execution_count": null,
   "id": "ffd01b87",
   "metadata": {},
   "outputs": [],
   "source": [
    "# types of files \n",
    "# 1) text files (.txt, .c etc)\n",
    "# 2) Binary files (.jpg , .dot etc)"
   ]
  },
  {
   "cell_type": "code",
   "execution_count": null,
   "id": "b157bf0d",
   "metadata": {},
   "outputs": [],
   "source": [
    "# python has a lot of function for reading updating and deliting files"
   ]
  },
  {
   "cell_type": "code",
   "execution_count": null,
   "id": "57bd96d3",
   "metadata": {},
   "outputs": [],
   "source": [
    "# opning a file \n",
    "# python has an open() funtion for opening files it takes 2 parameters\n",
    "# filename and mode \n",
    "#  code with harry python video (7:12:32) time"
   ]
  },
  {
   "cell_type": "code",
   "execution_count": null,
   "id": "848352fb",
   "metadata": {},
   "outputs": [],
   "source": [
    "#  r = open for reding\n",
    "#  w = open for writning \n",
    "#  a = open for appending\n",
    "#  t = open for updating"
   ]
  },
  {
   "cell_type": "code",
   "execution_count": null,
   "id": "5e073520",
   "metadata": {},
   "outputs": [],
   "source": [
    "# 'rb' will open for read in binary mode \n",
    "#  'rt' will open for read in text mode"
   ]
  }
 ],
 "metadata": {
  "kernelspec": {
   "display_name": "Python 3 (ipykernel)",
   "language": "python",
   "name": "python3"
  },
  "language_info": {
   "codemirror_mode": {
    "name": "ipython",
    "version": 3
   },
   "file_extension": ".py",
   "mimetype": "text/x-python",
   "name": "python",
   "nbconvert_exporter": "python",
   "pygments_lexer": "ipython3",
   "version": "3.9.7"
  }
 },
 "nbformat": 4,
 "nbformat_minor": 5
}
