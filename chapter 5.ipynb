{
 "cells": [
  {
   "cell_type": "code",
   "execution_count": null,
   "id": "080742f5",
   "metadata": {},
   "outputs": [],
   "source": [
    "# Dictionary and sets\n",
    "# dictionary is a collection of key-values pairs"
   ]
  },
  {
   "cell_type": "code",
   "execution_count": 16,
   "id": "3b951f8a",
   "metadata": {},
   "outputs": [
    {
     "name": "stdout",
     "output_type": "stream",
     "text": [
      "in a quick manner\n",
      "a teacher\n",
      "[1, 2, 3]\n",
      "player\n"
     ]
    }
   ],
   "source": [
    "# assigning the specific word with meaning in a dictionary\n",
    "myDict={\n",
    "    \"fast\" : \"in a quick manner\",\n",
    "    \"harry\" : \"a teacher\",\n",
    "    \"marks\": [1,2,3],\n",
    "    \"anotherdict\":{'shubham': 'player'}\n",
    "}\n",
    "print(myDict['fast'])\n",
    "print(myDict[\"harry\"])\n",
    "print(myDict['marks'])\n",
    "print(myDict['anotherdict']['shubham'])"
   ]
  },
  {
   "cell_type": "code",
   "execution_count": 18,
   "id": "e100b003",
   "metadata": {},
   "outputs": [
    {
     "name": "stdout",
     "output_type": "stream",
     "text": [
      "<class 'dict_keys'>\n",
      "['in a quick manner', 'a teacher', [1, 2, 3], {'shubham': 'player'}, 2]\n",
      "['fast', 'harry', 'marks', 'anotherdict', 1]\n",
      "dict_values(['in a quick manner', 'a teacher', [1, 2, 3], {'shubham': 'player'}, 2])\n",
      "dict_items([('fast', 'in a quick manner'), ('harry', 'a teacher'), ('marks', [1, 2, 3]), ('anotherdict', {'shubham': 'player'}), (1, 2)])\n"
     ]
    }
   ],
   "source": [
    "# Dictionary methods\n",
    "myDict={\n",
    "    \"fast\" : \"in a quick manner\",\n",
    "    \"harry\" : \"a teacher\",\n",
    "    \"marks\": [1,2,3],\n",
    "    \"anotherdict\":{'shubham': 'player'},\n",
    "    1:2\n",
    "}\n",
    "print(type(myDict.keys())) #print the defoult type of the dictionary\n",
    "print(list(myDict.values())) # prints the assign meaning of the keys\n",
    "print(list(myDict.keys())) # prints the keys of the dictionary\n",
    "print(myDict.values()) # prints the assign meaning of the keys\n",
    "print(myDict.items()) # prints the keys and assign meaning in the form of the touple"
   ]
  },
  {
   "cell_type": "code",
   "execution_count": 23,
   "id": "d37ba3c4",
   "metadata": {},
   "outputs": [
    {
     "name": "stdout",
     "output_type": "stream",
     "text": [
      "{'fast': 'in a quick manner', 'harry': 'a teacher', 'marks': [1, 2, 3], 'anotherdict': {'shubham': 'player'}, 1: 2}\n",
      "{'fast': 'very fast', 'harry': 'a teacher', 'marks': [1, 2, 3], 'anotherdict': {'shubham': 'player'}, 1: 2, 'bharat': 'papa', 'sunanda': 'mother'}\n"
     ]
    }
   ],
   "source": [
    "### updating the dictionary ###\n",
    "myDict={\n",
    "    \"fast\" : \"in a quick manner\",\n",
    "    \"harry\" : \"a teacher\",\n",
    "    \"marks\": [1,2,3],\n",
    "    \"anotherdict\":{'shubham': 'player'},\n",
    "    1:2\n",
    "}\n",
    "print(myDict)\n",
    "updateDict = {\n",
    "    \"bharat\":\"papa\",\n",
    "    \"sunanda\":\"mother\",\n",
    "    \"fast\":\"very fast\" # we can update old dictionary \n",
    "}\n",
    "myDict.update(updateDict)\n",
    "print(myDict)"
   ]
  },
  {
   "cell_type": "code",
   "execution_count": 27,
   "id": "ab75081f",
   "metadata": {},
   "outputs": [
    {
     "name": "stdout",
     "output_type": "stream",
     "text": [
      "in a quick manner\n",
      "None\n"
     ]
    },
    {
     "ename": "KeyError",
     "evalue": "'fast2'",
     "output_type": "error",
     "traceback": [
      "\u001b[1;31m---------------------------------------------------------------------------\u001b[0m",
      "\u001b[1;31mKeyError\u001b[0m                                  Traceback (most recent call last)",
      "\u001b[1;32m~\\AppData\\Local\\Temp/ipykernel_12520/4004047633.py\u001b[0m in \u001b[0;36m<module>\u001b[1;34m\u001b[0m\n\u001b[0;32m      9\u001b[0m \u001b[1;31m#  what if we use the older mnethod to print the key\u001b[0m\u001b[1;33m\u001b[0m\u001b[1;33m\u001b[0m\u001b[0m\n\u001b[0;32m     10\u001b[0m \u001b[0mprint\u001b[0m\u001b[1;33m(\u001b[0m\u001b[0mmyDict\u001b[0m\u001b[1;33m.\u001b[0m\u001b[0mget\u001b[0m\u001b[1;33m(\u001b[0m\u001b[1;34m\"fast2\"\u001b[0m\u001b[1;33m)\u001b[0m\u001b[1;33m)\u001b[0m \u001b[1;31m#in this method if the function is note present it will show NONE\u001b[0m\u001b[1;33m\u001b[0m\u001b[1;33m\u001b[0m\u001b[0m\n\u001b[1;32m---> 11\u001b[1;33m \u001b[0mprint\u001b[0m\u001b[1;33m(\u001b[0m\u001b[0mmyDict\u001b[0m\u001b[1;33m[\u001b[0m\u001b[1;34m\"fast2\"\u001b[0m\u001b[1;33m]\u001b[0m\u001b[1;33m)\u001b[0m \u001b[1;31m#in this method if the function is not present it will shoe error\u001b[0m\u001b[1;33m\u001b[0m\u001b[1;33m\u001b[0m\u001b[0m\n\u001b[0m",
      "\u001b[1;31mKeyError\u001b[0m: 'fast2'"
     ]
    }
   ],
   "source": [
    "myDict={\n",
    "    \"fast\" : \"in a quick manner\",\n",
    "    \"harry\" : \"a teacher\",\n",
    "    \"marks\": [1,2,3],\n",
    "    \"anotherdict\":{'shubham': 'player'},\n",
    "    1:2\n",
    "}\n",
    "print(myDict.get(\"fast\")) #prints the value assiciate with key harry \n",
    "#  what if we use the older mnethod to print the key \n",
    "print(myDict.get(\"fast2\")) #in this method if the function is note present it will show NONE\n",
    "print(myDict[\"fast2\"]) #in this method if the function is not present it will shoe error"
   ]
  },
  {
   "cell_type": "code",
   "execution_count": 31,
   "id": "e9effee3",
   "metadata": {},
   "outputs": [
    {
     "name": "stdout",
     "output_type": "stream",
     "text": [
      "{1, 2, 3, 4, 5}\n",
      "<class 'set'>\n"
     ]
    }
   ],
   "source": [
    "## SETS IN PYTHON ##\n",
    "a = {1,2,3,5,4}\n",
    "print(a)\n",
    "print(type(a))"
   ]
  },
  {
   "cell_type": "code",
   "execution_count": 33,
   "id": "79dcee58",
   "metadata": {},
   "outputs": [
    {
     "name": "stdout",
     "output_type": "stream",
     "text": [
      "{1, 2, 3, 4}\n"
     ]
    }
   ],
   "source": [
    "# sets can not shows the repatative item (set is collection of non repetative elemrnts)\n",
    "a = {1,2,3,4,1,3}\n",
    "print(a) #it will only show the single occurence of the item"
   ]
  },
  {
   "cell_type": "code",
   "execution_count": 34,
   "id": "416a30b9",
   "metadata": {},
   "outputs": [
    {
     "name": "stdout",
     "output_type": "stream",
     "text": [
      "<class 'dict'>\n"
     ]
    }
   ],
   "source": [
    "# with syntex will creat empty dicttionary \n",
    "a = {}\n",
    "print(type(a))\n"
   ]
  },
  {
   "cell_type": "code",
   "execution_count": 36,
   "id": "c8458266",
   "metadata": {},
   "outputs": [
    {
     "name": "stdout",
     "output_type": "stream",
     "text": [
      "set()\n"
     ]
    }
   ],
   "source": [
    "# EMPTY SET \n",
    "a=set()\n",
    "print(a)"
   ]
  },
  {
   "cell_type": "code",
   "execution_count": 40,
   "id": "c70f4708",
   "metadata": {},
   "outputs": [
    {
     "name": "stdout",
     "output_type": "stream",
     "text": [
      "set()\n",
      "{4, 5}\n"
     ]
    }
   ],
   "source": [
    "# adding the item in empty set \n",
    "a=set()\n",
    "print(a)\n",
    "#dding the values to an empty set\n",
    "a.add(5)\n",
    "a.add(4)\n",
    "print(a)"
   ]
  },
  {
   "cell_type": "code",
   "execution_count": 42,
   "id": "a67fb9b0",
   "metadata": {},
   "outputs": [
    {
     "name": "stdout",
     "output_type": "stream",
     "text": [
      "set()\n",
      "(4, 5, 6, 7, 8)\n"
     ]
    }
   ],
   "source": [
    "#  can not add list in the set\n",
    "a = set()\n",
    "print(a)\n",
    "#adding list in empty set\n",
    "# a.adding([4,5,6,7,8]) #we can not do that becouse it is not hasheble\n",
    "# print(a)\n",
    "#but we can add tuple to the set\n",
    "a = ((4,5,6,7,8,))\n",
    "print(a)"
   ]
  },
  {
   "cell_type": "code",
   "execution_count": null,
   "id": "b5656d96",
   "metadata": {},
   "outputs": [],
   "source": [
    "# can not add the dictionary in the set"
   ]
  },
  {
   "cell_type": "code",
   "execution_count": 44,
   "id": "bcfa41f0",
   "metadata": {},
   "outputs": [],
   "source": [
    "## PROPERTIES OF SET ##\n",
    "#  SET ARE UNORDERED \n",
    "# SET ARE UNINDEXED \n",
    "#  THERE IS NO WAY TO CCHANGE ITEM IN SET\n",
    "#  SET CANNOT CONTAIN DUPLICATE VALUES "
   ]
  },
  {
   "cell_type": "code",
   "execution_count": null,
   "id": "0b4e69b2",
   "metadata": {},
   "outputs": [],
   "source": [
    "###  METHOD OF SETS ###\n",
    "# ADDING A VALUE \n",
    "# ADDING VALUE REPEATEDLY DOES NOT CHANGE A SET\n",
    "a = set((1,2,3,4,5,6))\n",
    "print(len(a)) # can print the lenght of function  \n",
    "a.remove(5) # can remove the specific item from the set\n",
    "print(a)"
   ]
  },
  {
   "cell_type": "code",
   "execution_count": 51,
   "id": "b87deec7",
   "metadata": {},
   "outputs": [
    {
     "name": "stdout",
     "output_type": "stream",
     "text": [
      "{2, 3, 4, 5, 6}\n"
     ]
    }
   ],
   "source": [
    "# pop = remove the arbitary element\n",
    "a = set((1,2,3,4,5,6))\n",
    "a.pop() # remove random item from the set\n",
    "print(a) # print remaining item from the set exept the poped one"
   ]
  },
  {
   "cell_type": "code",
   "execution_count": null,
   "id": "d5fa653e",
   "metadata": {},
   "outputs": [],
   "source": [
    "### practice set ###\n",
    "# que no 1 = take input from user which hindi word he wants to translate in english\n",
    "myDict= {\n",
    "    \"pankha\":\"fan\",\n",
    "    \"dabba\": \"box\",\n",
    "    \"vastu\": \"item\"\n",
    "}\n",
    "print(\"options are: \" ,myDict.keys())\n",
    "a = input(\"enter the hindi word (pankha,dabba,vastu,),\\n\")\n",
    "print(\"the meaning of word is : \",myDict.get(a)) # to get no error use get function"
   ]
  },
  {
   "cell_type": "code",
   "execution_count": null,
   "id": "f5348c34",
   "metadata": {},
   "outputs": [],
   "source": [
    "# que no 2 = \n",
    "a = input(\"1st number = \")\n",
    "b = input(\"2nd number = \")\n",
    "c = input(\"3rd number = \")\n",
    "d = input(\"4rt number = \")\n",
    "e = input(\"5th number = \")\n",
    "f = input(\"6th number = \")\n",
    "g = input(\"7th number = \")\n",
    "h = input(\"8th number = \")\n",
    "n1 = set((a,b,c,d,e,f,g,h))\n",
    "print(n1)"
   ]
  },
  {
   "cell_type": "code",
   "execution_count": 4,
   "id": "805a077a",
   "metadata": {},
   "outputs": [
    {
     "name": "stdout",
     "output_type": "stream",
     "text": [
      "{18, '18'}\n"
     ]
    }
   ],
   "source": [
    "# que no 3\n",
    "a = {18,\"18\"}\n",
    "print(a)"
   ]
  },
  {
   "cell_type": "code",
   "execution_count": 8,
   "id": "1f0968dc",
   "metadata": {},
   "outputs": [
    {
     "name": "stdout",
     "output_type": "stream",
     "text": [
      "set()\n",
      "{20, '20'}\n",
      "2\n"
     ]
    }
   ],
   "source": [
    "# Que no 4\n",
    "s = set()\n",
    "print(s)\n",
    "s.add(20)\n",
    "s.add(20.0)# becouse the valuse are same 20 & 20.0 so python will consider it as single unit\n",
    "s.add(\"20\")\n",
    "print(s)\n",
    "print(len(s)) # becouse of considering the 20 & 20.0 same the length is 2 "
   ]
  },
  {
   "cell_type": "code",
   "execution_count": 9,
   "id": "cec75acc",
   "metadata": {},
   "outputs": [
    {
     "name": "stdout",
     "output_type": "stream",
     "text": [
      "<class 'dict'>\n"
     ]
    }
   ],
   "source": [
    "# que no 5\n",
    "s = {}\n",
    "print(type(s))"
   ]
  },
  {
   "cell_type": "code",
   "execution_count": 11,
   "id": "53fa3a2b",
   "metadata": {},
   "outputs": [
    {
     "name": "stdout",
     "output_type": "stream",
     "text": [
      "enter yopur fav languge shubham = \n",
      "python\n",
      "enter yopur fav languge papa = \n",
      "c\n",
      "enter yopur fav languge aai = \n",
      "c++\n",
      "enter yopur fav languge didi = \n",
      "java\n",
      "{'shubham': 'python', 'papa': 'c', 'aai': 'c++', 'didi': 'java'}\n"
     ]
    }
   ],
   "source": [
    "# que no 6\n",
    "myDict ={}\n",
    "a = input(\"enter yopur fav languge shubham = \\n\")\n",
    "b = input(\"enter yopur fav languge papa = \\n\")\n",
    "c = input(\"enter yopur fav languge aai = \\n\")\n",
    "d = input(\"enter yopur fav languge didi = \\n\")\n",
    "myDict['shubham'] = a \n",
    "myDict['papa'] = b\n",
    "myDict['aai'] = c\n",
    "myDict['didi'] = d\n",
    "print(myDict)\n",
    "\n",
    "# que no 7\n",
    "# if two names are same then the then last inpute will be shown as the result"
   ]
  },
  {
   "cell_type": "code",
   "execution_count": null,
   "id": "8d24a649",
   "metadata": {
    "collapsed": true
   },
   "outputs": [],
   "source": [
    "#que 9 \n",
    "# set can not have list in it"
   ]
  }
 ],
 "metadata": {
  "kernelspec": {
   "display_name": "Python 3 (ipykernel)",
   "language": "python",
   "name": "python3"
  },
  "language_info": {
   "codemirror_mode": {
    "name": "ipython",
    "version": 3
   },
   "file_extension": ".py",
   "mimetype": "text/x-python",
   "name": "python",
   "nbconvert_exporter": "python",
   "pygments_lexer": "ipython3",
   "version": "3.9.7"
  }
 },
 "nbformat": 4,
 "nbformat_minor": 5
}
