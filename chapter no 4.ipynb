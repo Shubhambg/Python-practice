{
 "cells": [
  {
   "cell_type": "code",
   "execution_count": 1,
   "id": "eb25c34e",
   "metadata": {},
   "outputs": [
    {
     "name": "stdout",
     "output_type": "stream",
     "text": [
      "[1, 2, 4, 56, 6]\n"
     ]
    }
   ],
   "source": [
    "# creating the list using [] function\n",
    "a = [1,2,4,56,6]\n",
    "print(a)"
   ]
  },
  {
   "cell_type": "code",
   "execution_count": 5,
   "id": "3af27205",
   "metadata": {},
   "outputs": [
    {
     "name": "stdout",
     "output_type": "stream",
     "text": [
      "1\n",
      "6\n",
      "56\n"
     ]
    }
   ],
   "source": [
    "# assecing the first unit of the given list\n",
    "a = [1,2,4,56,6]\n",
    "print(a[0])\n",
    "print(a[4])\n",
    "print(a[3])"
   ]
  },
  {
   "cell_type": "code",
   "execution_count": 7,
   "id": "950b6077",
   "metadata": {},
   "outputs": [
    {
     "name": "stdout",
     "output_type": "stream",
     "text": [
      "[2, 2, 3, 16, 5, 6, 7, 8, 9, 54]\n"
     ]
    }
   ],
   "source": [
    "# changing the element in the list\n",
    "a = [1,2,3,4,5,6,7,8,9,54]\n",
    "a[0]=2\n",
    "a[3]=16\n",
    "print(a)\n"
   ]
  },
  {
   "cell_type": "code",
   "execution_count": 9,
   "id": "ff8add69",
   "metadata": {},
   "outputs": [
    {
     "name": "stdout",
     "output_type": "stream",
     "text": [
      "[45, 'shubham', True, 45.6]\n"
     ]
    }
   ],
   "source": [
    "# we aan creat list with lines of diff types\n",
    "c = [45 ,\"shubham\",True ,45.6]\n",
    "print(c)"
   ]
  },
  {
   "cell_type": "code",
   "execution_count": 12,
   "id": "7a1842db",
   "metadata": {},
   "outputs": [
    {
     "name": "stdout",
     "output_type": "stream",
     "text": [
      "['shubham', 'bharat', 'trupti', 'sunanda']\n",
      "['shubham', 'bharat', 'trupti', 'sunanda']\n"
     ]
    }
   ],
   "source": [
    "# slicing of the list\n",
    "friends = [\"shubham\",\"bharat\",\"trupti\",\"sunanda\"]\n",
    "print(friends[0:4])\n",
    "print(friends[-4:])"
   ]
  },
  {
   "cell_type": "code",
   "execution_count": 15,
   "id": "3b411ab5",
   "metadata": {},
   "outputs": [
    {
     "name": "stdout",
     "output_type": "stream",
     "text": [
      "[22, 54, 121, 545, 1215, 546513, 2154321]\n"
     ]
    }
   ],
   "source": [
    "# list method (sort)\n",
    "l = [22,545,1215,121,546513,2154321,54]\n",
    "l.sort()\n",
    "print(l)"
   ]
  },
  {
   "cell_type": "code",
   "execution_count": 18,
   "id": "e3c9cad5",
   "metadata": {},
   "outputs": [
    {
     "name": "stdout",
     "output_type": "stream",
     "text": [
      "[54, 2154321, 546513, 121, 1215, 545, 22]\n"
     ]
    }
   ],
   "source": [
    "# list method (reverse)\n",
    "l =[22,545,1215,121,546513,2154321,54]\n",
    "l.reverse()\n",
    "print(l)"
   ]
  },
  {
   "cell_type": "code",
   "execution_count": 19,
   "id": "1276375b",
   "metadata": {},
   "outputs": [
    {
     "name": "stdout",
     "output_type": "stream",
     "text": [
      "[22, 545, 1215, 121, 546513, 2154321, 54, 36]\n"
     ]
    }
   ],
   "source": [
    "#  list method (append) adding at the end of the list\n",
    "l =[22,545,1215,121,546513,2154321,54]\n",
    "l.append(36)\n",
    "print(l)"
   ]
  },
  {
   "cell_type": "code",
   "execution_count": 20,
   "id": "d9d22003",
   "metadata": {},
   "outputs": [
    {
     "name": "stdout",
     "output_type": "stream",
     "text": [
      "[544, 22, 545, 1215, 121, 546513, 2154321, 54]\n"
     ]
    }
   ],
   "source": [
    "# #  list method insert \n",
    "l =[22,545,1215,121,546513,2154321,54]\n",
    "l.insert(0,544)\n",
    "print(l)\n"
   ]
  },
  {
   "cell_type": "code",
   "execution_count": 1,
   "id": "a263fa75",
   "metadata": {},
   "outputs": [
    {
     "name": "stdout",
     "output_type": "stream",
     "text": [
      "[22, 545, 121, 546513, 2154321, 54]\n"
     ]
    }
   ],
   "source": [
    "# list function (pop)\n",
    "l =[22,545,1215,121,546513,2154321,54]\n",
    "l.pop(2)\n",
    "print(l)"
   ]
  },
  {
   "cell_type": "code",
   "execution_count": 2,
   "id": "597f6cbc",
   "metadata": {},
   "outputs": [
    {
     "name": "stdout",
     "output_type": "stream",
     "text": [
      "[22, 545, 1215, 546513, 2154321, 54]\n"
     ]
    }
   ],
   "source": [
    "# list function (remove)\n",
    "l =[22,545,1215,121,546513,2154321,54]\n",
    "l.remove(121)\n",
    "print(l)"
   ]
  },
  {
   "cell_type": "code",
   "execution_count": null,
   "id": "392c7351",
   "metadata": {},
   "outputs": [],
   "source": [
    "# python docs to find all mehod and function in python"
   ]
  },
  {
   "cell_type": "code",
   "execution_count": null,
   "id": "326b7726",
   "metadata": {},
   "outputs": [],
   "source": [
    "#### touples ####\n",
    "# creating toulpe using () function\n",
    "# printig the element of touple\n",
    "# using print(t[0])\n",
    "# we can not update the values of touple\n",
    "# t[0]=34 not going to work"
   ]
  },
  {
   "cell_type": "code",
   "execution_count": 4,
   "id": "1b0d7799",
   "metadata": {},
   "outputs": [
    {
     "name": "stdout",
     "output_type": "stream",
     "text": [
      "()\n",
      "(1,)\n",
      "(1, 7, 2)\n"
     ]
    }
   ],
   "source": [
    "a = () #empty touple\n",
    "# b = (1) wrong way to declare touple with single element \n",
    "b =(1,) #touple with only one element need (,) \n",
    "c = (1,7,2) #touple with more than one element\n",
    "print(a)\n",
    "print(b)\n",
    "print(c)"
   ]
  },
  {
   "cell_type": "code",
   "execution_count": 6,
   "id": "733c16a3",
   "metadata": {},
   "outputs": [
    {
     "name": "stdout",
     "output_type": "stream",
     "text": [
      "1\n",
      "4\n"
     ]
    }
   ],
   "source": [
    "#  count\n",
    "# metods of touple occurence of the given elelmeyt will show in the output\n",
    "a = (1,2,3,4,5,3,8,3,4,3)\n",
    "print(a.count(1))\n",
    "print(a.count(3))"
   ]
  },
  {
   "cell_type": "code",
   "execution_count": 13,
   "id": "8d6b25f0",
   "metadata": {},
   "outputs": [
    {
     "name": "stdout",
     "output_type": "stream",
     "text": [
      "6\n"
     ]
    }
   ],
   "source": [
    "#  index\n",
    "# metod of touple it will return the index of 1 in a\n",
    "a = (1,2,3,4,5,3,8,3,4,3)\n",
    "print(a.index(8))"
   ]
  },
  {
   "cell_type": "code",
   "execution_count": null,
   "id": "badaaee4",
   "metadata": {},
   "outputs": [],
   "source": [
    "#### prctice set ####\n",
    "# list and touple"
   ]
  },
  {
   "cell_type": "code",
   "execution_count": 17,
   "id": "b35087a8",
   "metadata": {},
   "outputs": [
    {
     "name": "stdout",
     "output_type": "stream",
     "text": [
      "first name of the friute,  apple \n",
      "2nd name of the friute,  mango\n",
      "3rd name of the friute,  jackfruite\n",
      "4rth name of the friute,  banana\n",
      "5th name of the friute,  liwi\n",
      "6th name of the friute,  watermelone\n",
      "7th name of the friute,  stroberry\n",
      "['apple ', 'mango', 'jackfruite', 'banana', 'liwi', 'watermelone', 'stroberry']\n"
     ]
    }
   ],
   "source": [
    "# que no 1\n",
    "# make list of sevene fruits and names should be user given\n",
    "a = input(\"first name of the friute,  \")\n",
    "b = input(\"2nd name of the friute,  \")\n",
    "c = input(\"3rd name of the friute,  \")\n",
    "d = input(\"4rth name of the friute,  \")\n",
    "e = input(\"5th name of the friute,  \")\n",
    "f = input(\"6th name of the friute,  \")\n",
    "g = input(\"7th name of the friute,  \")\n",
    "sb = [a,b,c,d,e,f,g]\n",
    "print(sb)"
   ]
  },
  {
   "cell_type": "code",
   "execution_count": 18,
   "id": "b75a16aa",
   "metadata": {},
   "outputs": [
    {
     "name": "stdout",
     "output_type": "stream",
     "text": [
      "1 marks5\n",
      "2 marks6\n",
      "3 marks8\n",
      "4 marks7\n",
      "5 marks3\n",
      "6 marks4\n",
      "['3', '4', '5', '6', '7', '8']\n"
     ]
    }
   ],
   "source": [
    "# que no 2\n",
    "# accept the marks of 6 student and display it in sorted manner\n",
    "a = input(\"1 marks\")\n",
    "b = input(\"2 marks\")\n",
    "c = input(\"3 marks\")\n",
    "d = input(\"4 marks\")\n",
    "e = input(\"5 marks\")\n",
    "f = input(\"6 marks\")\n",
    "sb = [a,b,c,d,e,f]\n",
    "sb.sort()\n",
    "print(sb)"
   ]
  },
  {
   "cell_type": "code",
   "execution_count": 19,
   "id": "da6ea9ac",
   "metadata": {},
   "outputs": [
    {
     "ename": "SyntaxError",
     "evalue": "invalid syntax (Temp/ipykernel_19564/4087892942.py, line 4)",
     "output_type": "error",
     "traceback": [
      "\u001b[1;36m  File \u001b[1;32m\"C:\\Users\\Shubham\\AppData\\Local\\Temp/ipykernel_19564/4087892942.py\"\u001b[1;36m, line \u001b[1;32m4\u001b[0m\n\u001b[1;33m    a.(0)=2\u001b[0m\n\u001b[1;37m      ^\u001b[0m\n\u001b[1;31mSyntaxError\u001b[0m\u001b[1;31m:\u001b[0m invalid syntax\n"
     ]
    }
   ],
   "source": [
    "# que no 3\n",
    "# cheaking that touple cannot be change in python\n",
    "a = (1,2,3,4,5,3,6)\n",
    "a.(0)=2\n",
    "print(a)"
   ]
  },
  {
   "cell_type": "code",
   "execution_count": 22,
   "id": "ec1e5ab8",
   "metadata": {},
   "outputs": [
    {
     "name": "stdout",
     "output_type": "stream",
     "text": [
      "4\n",
      "4\n"
     ]
    }
   ],
   "source": [
    "# que no 4\n",
    "# sum a list with 4 numbers\n",
    "a = [1,1,1,1]\n",
    "print(a[0]+a[1]+a[2]+a[3])\n",
    "print(sum(a))"
   ]
  },
  {
   "cell_type": "code",
   "execution_count": 24,
   "id": "a4e8d813",
   "metadata": {},
   "outputs": [
    {
     "name": "stdout",
     "output_type": "stream",
     "text": [
      "3\n"
     ]
    }
   ],
   "source": [
    "# que no 5\n",
    "# number of zeros in following touple\n",
    "a = (7,0,8,0,0,9)\n",
    "print(a.count(0))"
   ]
  },
  {
   "cell_type": "code",
   "execution_count": null,
   "id": "047c9bfe",
   "metadata": {},
   "outputs": [],
   "source": []
  }
 ],
 "metadata": {
  "kernelspec": {
   "display_name": "Python 3 (ipykernel)",
   "language": "python",
   "name": "python3"
  },
  "language_info": {
   "codemirror_mode": {
    "name": "ipython",
    "version": 3
   },
   "file_extension": ".py",
   "mimetype": "text/x-python",
   "name": "python",
   "nbconvert_exporter": "python",
   "pygments_lexer": "ipython3",
   "version": "3.9.7"
  }
 },
 "nbformat": 4,
 "nbformat_minor": 5
}
