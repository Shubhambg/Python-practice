{
 "cells": [
  {
   "cell_type": "code",
   "execution_count": null,
   "id": "8898fce7",
   "metadata": {},
   "outputs": [],
   "source": [
    "# chapter 6 = condition expresion"
   ]
  },
  {
   "cell_type": "code",
   "execution_count": null,
   "id": "333ea5d6",
   "metadata": {},
   "outputs": [],
   "source": [
    "## what is conditional expression - applying the spacific condition to the code to give specific output\n",
    "# if code is meeting to the condition then the code will run otherwise it will not"
   ]
  },
  {
   "cell_type": "code",
   "execution_count": null,
   "id": "cb0628e9",
   "metadata": {},
   "outputs": [],
   "source": [
    "# if else and elif\n",
    "#  this are multiway dision taken by our program due to certain conditions in our code"
   ]
  },
  {
   "cell_type": "code",
   "execution_count": 7,
   "id": "031cdf96",
   "metadata": {},
   "outputs": [
    {
     "name": "stdout",
     "output_type": "stream",
     "text": [
      "the value of a is greater than 3\n"
     ]
    }
   ],
   "source": [
    "# if elif else ladder \n",
    "a = 45\n",
    "if(a>3):\n",
    "    print(\"the value of a is greater than 3\")\n",
    "    \n",
    "elif(a>13):\n",
    "    print(\"the value of a grater than 13\")\n",
    "    \n",
    "elif(a>7):\n",
    "    print(\"the value of a grater than 7\")\n",
    "    \n",
    "elif(a>17):\n",
    "    print(\"the value of a grater than 17\")\n",
    "\n",
    "else:\n",
    "    print(\"the vlaue is not grater than 3 or 7 \")"
   ]
  },
  {
   "cell_type": "code",
   "execution_count": 9,
   "id": "c262fac7",
   "metadata": {},
   "outputs": [
    {
     "name": "stdout",
     "output_type": "stream",
     "text": [
      "the value of a grater than 1\n"
     ]
    }
   ],
   "source": [
    "# if elif else ladder \n",
    "a = 2\n",
    "if(a>3):\n",
    "    print(\"the value of a is greater than 3\")\n",
    "    \n",
    "elif(a>13):\n",
    "    print(\"the value of a grater than 13\")\n",
    "    \n",
    "elif(a>7):\n",
    "    print(\"the value of a grater than 7\")\n",
    "    \n",
    "elif(a>1):\n",
    "    print(\"the value of a grater than 1\")\n",
    "\n",
    "else:\n",
    "    print(\"the vlaue is not grater than 3 or 7 \")"
   ]
  },
  {
   "cell_type": "code",
   "execution_count": 15,
   "id": "58dab6e9",
   "metadata": {},
   "outputs": [
    {
     "name": "stdout",
     "output_type": "stream",
     "text": [
      "the value of a grater than 1\n"
     ]
    }
   ],
   "source": [
    "# multiple if statment\n",
    "a = 2\n",
    "if(a>3):\n",
    "    print(\"the value of a is greater than 3\")\n",
    "    \n",
    "if(a>13):\n",
    "    print(\"the value of a grater than 13\")\n",
    "    \n",
    "if(a>7):\n",
    "    print(\"the value of a grater than 7\")\n",
    "    \n",
    "if(a>1):\n",
    "    print(\"the value of a grater than 1\")\n",
    "\n",
    "else:\n",
    "    print(\"the vlaue is not grater than 3 or 7 \")"
   ]
  },
  {
   "cell_type": "code",
   "execution_count": 16,
   "id": "0292ca32",
   "metadata": {},
   "outputs": [
    {
     "name": "stdout",
     "output_type": "stream",
     "text": [
      "the vlaue is not grater than 3 or 7 \n"
     ]
    }
   ],
   "source": [
    "# multiple if statment\n",
    "a = 2\n",
    "if(a>3):\n",
    "    print(\"the value of a is greater than 3\")\n",
    "    \n",
    "if(a>13):\n",
    "    print(\"the value of a grater than 13\")\n",
    "    \n",
    "if(a>7):\n",
    "    print(\"the value of a grater than 7\")\n",
    "    \n",
    "if(a>5):\n",
    "    print(\"the value of a grater than 5\")\n",
    "\n",
    "else:\n",
    "    print(\"the vlaue is not grater than 3 or 7 \")"
   ]
  },
  {
   "cell_type": "code",
   "execution_count": 19,
   "id": "25e10885",
   "metadata": {},
   "outputs": [
    {
     "name": "stdout",
     "output_type": "stream",
     "text": [
      "greater\n"
     ]
    }
   ],
   "source": [
    "# code example\n",
    "a = 22\n",
    "if(a>9):\n",
    "    print(\"greater\")\n",
    "else: #(dont forget to use : every time when use IF or ELSE)\n",
    "    print(\"lesser\")"
   ]
  },
  {
   "cell_type": "code",
   "execution_count": 30,
   "id": "6aa8f499",
   "metadata": {},
   "outputs": [
    {
     "name": "stdout",
     "output_type": "stream",
     "text": [
      "enter age: 12\n",
      "no\n"
     ]
    }
   ],
   "source": [
    "# qize \n",
    "a = int(input(\"enter age: \")) #str does not support string so use int\n",
    "if(a>=18):\n",
    "    print(\"yes\")\n",
    "else:\n",
    "    print(\"no\")"
   ]
  },
  {
   "cell_type": "code",
   "execution_count": null,
   "id": "a401108e",
   "metadata": {},
   "outputs": [],
   "source": [
    "## relation oprators\n",
    "# relation oprators are use to evalute condition inside the if statement.\n",
    "# some example of relational oprator are:\n",
    "# == eqaul \n",
    "# >= gerater than eqaul to\n",
    "# <= lesser than equal to "
   ]
  },
  {
   "cell_type": "code",
   "execution_count": 31,
   "id": "01e24fbe",
   "metadata": {},
   "outputs": [],
   "source": [
    "# logical oprator"
   ]
  },
  {
   "cell_type": "code",
   "execution_count": 43,
   "id": "0c000654",
   "metadata": {},
   "outputs": [
    {
     "name": "stdout",
     "output_type": "stream",
     "text": [
      "Enter your age: 26\n",
      "you can work with us \n"
     ]
    }
   ],
   "source": [
    "# and oprator\n",
    "age = int(input(\"Enter your age: \"))\n",
    "if(age>25 and age<35):\n",
    "    print(\"you can work with us \")\n",
    "else:\n",
    "    print(\"you can not work with us\")"
   ]
  },
  {
   "cell_type": "code",
   "execution_count": 48,
   "id": "45199126",
   "metadata": {},
   "outputs": [
    {
     "name": "stdout",
     "output_type": "stream",
     "text": [
      "Enter your age: 30\n",
      "you can work with us \n"
     ]
    }
   ],
   "source": [
    "#  or oprator\n",
    "# and oprator\n",
    "age = int(input(\"Enter your age: \"))\n",
    "if(age>25 or age<35):\n",
    "    print(\"you can work with us \")\n",
    "else:\n",
    "    print(\"you can not work with us\")"
   ]
  },
  {
   "cell_type": "code",
   "execution_count": null,
   "id": "a0cb46bc",
   "metadata": {},
   "outputs": [],
   "source": [
    "#  logical oprators\n",
    "#  in python logical oprators operate on conditional statements \n",
    "#    ex - and - true if both operators are true else false \n",
    "#    or - true if at least one oprator is true else false\n",
    "#    not - invets true to false to true"
   ]
  },
  {
   "cell_type": "code",
   "execution_count": 2,
   "id": "3273f865",
   "metadata": {},
   "outputs": [
    {
     "name": "stdout",
     "output_type": "stream",
     "text": [
      "you can not work with us \n"
     ]
    }
   ],
   "source": [
    "# logiacal and relational oprator\n",
    "age = 28\n",
    "if (age>34 and age<56):\n",
    "    print(\"you can work with us \")\n",
    "else:\n",
    "    print(\"you can not work with us \")"
   ]
  },
  {
   "cell_type": "code",
   "execution_count": null,
   "id": "08293372",
   "metadata": {},
   "outputs": [],
   "source": [
    "# elif clouse \n",
    "'''elif in python means an if statement can be chained togather\n",
    "with a lot of these elif statments followed by an else statment "
   ]
  },
  {
   "cell_type": "code",
   "execution_count": 3,
   "id": "43575140",
   "metadata": {},
   "outputs": [
    {
     "name": "stdout",
     "output_type": "stream",
     "text": [
      "yes\n"
     ]
    }
   ],
   "source": [
    "#   is oprator \n",
    "a = None \n",
    "if (a is None ):\n",
    "    print(\"yes\")\n",
    "else:\n",
    "    print(\"no\")\n",
    "    \n"
   ]
  },
  {
   "cell_type": "code",
   "execution_count": 8,
   "id": "a01fe319",
   "metadata": {},
   "outputs": [
    {
     "name": "stdout",
     "output_type": "stream",
     "text": [
      "True\n",
      "False\n"
     ]
    }
   ],
   "source": [
    "#   in oprator (if its present in given data then it will print true)\n",
    "a = [45,46,6]\n",
    "print(45 in a)\n",
    "print(453 in a)"
   ]
  },
  {
   "cell_type": "code",
   "execution_count": null,
   "id": "b3f620b1",
   "metadata": {},
   "outputs": [],
   "source": [
    "# imp notes \n",
    "1) these can be any number of elif statment.\n",
    "2) "
   ]
  },
  {
   "cell_type": "code",
   "execution_count": 12,
   "id": "f66fc491",
   "metadata": {},
   "outputs": [
    {
     "name": "stdout",
     "output_type": "stream",
     "text": [
      "yes\n"
     ]
    }
   ],
   "source": [
    "#  is else optional\n",
    "a = 7\n",
    "if (a==7):\n",
    "    print(\"yes\")\n",
    "elif (a > 56):\n",
    "        print(\"no and yes\")"
   ]
  },
  {
   "cell_type": "code",
   "execution_count": null,
   "id": "230844e2",
   "metadata": {},
   "outputs": [],
   "source": [
    "#  using else is optional"
   ]
  },
  {
   "cell_type": "code",
   "execution_count": null,
   "id": "cb87e0f7",
   "metadata": {},
   "outputs": [],
   "source": [
    "# practice set"
   ]
  },
  {
   "cell_type": "raw",
   "id": "4590a45d",
   "metadata": {},
   "source": []
  },
  {
   "cell_type": "code",
   "execution_count": 16,
   "id": "1b82664c",
   "metadata": {},
   "outputs": [
    {
     "name": "stdout",
     "output_type": "stream",
     "text": [
      "enter 1st no 1\n",
      "enter 2nd no 2\n",
      "enter 3rd no 45\n",
      "enter 4th no 23\n",
      "c is greater  45\n"
     ]
    }
   ],
   "source": [
    "# que no 1 \n",
    "# find greatest number enter by user\n",
    "a = int(input(\"enter 1st no \"))\n",
    "b = int(input(\"enter 2nd no \"))\n",
    "c = int(input(\"enter 3rd no \"))\n",
    "d = int(input(\"enter 4th no \"))\n",
    "if (a>b):\n",
    "    print(\"a is gretest \",a)\n",
    "elif (b>c):\n",
    "    print(\"b is greater \",b)\n",
    "elif(c>d):\n",
    "    print(\"c is greater \",c)\n",
    "elif(d>a):\n",
    "    print(\"d is greater \",d)"
   ]
  },
  {
   "cell_type": "code",
   "execution_count": 5,
   "id": "9f06352c",
   "metadata": {},
   "outputs": [
    {
     "name": "stdout",
     "output_type": "stream",
     "text": [
      "maths marks = 45\n",
      "chem marks = 56\n",
      "phy marks = 62\n",
      "pass in maths \n",
      "pass in chem\n",
      "pass in phy \n",
      "54.333333333333336\n",
      "passed\n"
     ]
    }
   ],
   "source": [
    "# que no 2\n",
    "# pass or fail\n",
    "maths = int(input(\"maths marks = \"))\n",
    "chem = int(input(\"chem marks = \"))\n",
    "phy = int(input(\"phy marks = \"))\n",
    "if(maths>=33):\n",
    "    print(\"pass in maths \")\n",
    "else:\n",
    "    print(\"fail in maths \")\n",
    "if(chem>=33):\n",
    "    print(\"pass in chem\")\n",
    "else:\n",
    "    print(\"fail in chem \")\n",
    "if(phy>=33):\n",
    "    print(\"pass in phy \")\n",
    "else:\n",
    "    print(\"fail in phy \")\n",
    "a = (maths + chem + phy)\n",
    "b = ((a/300)*100)\n",
    "print(b)\n",
    "if(b>=40):\n",
    "    print(\"passed\")\n",
    "else:\n",
    "    print(\"fail\")"
   ]
  },
  {
   "cell_type": "code",
   "execution_count": 6,
   "id": "6516ad32",
   "metadata": {},
   "outputs": [
    {
     "name": "stdout",
     "output_type": "stream",
     "text": [
      "enter the text make a lot of money\n",
      "this text is a spam\n"
     ]
    }
   ],
   "source": [
    "# que no 3\n",
    "# spam detection\n",
    "comment = input(\"enter the text \")\n",
    "spam = False\n",
    "if(\"make a lot of money\" in comment):\n",
    "    spam  = True\n",
    "elif(\"bye now\" in comment):\n",
    "    spam = True\n",
    "elif(\"watch this\" in comment):\n",
    "     spam = True\n",
    "elif(\"subcribe this\" in comment):\n",
    "     spam = True\n",
    "elif(\"click this\" in comment):\n",
    "     spam = True\n",
    "if (spam):\n",
    "    print(\"this text is a spam\")\n",
    "else:\n",
    "    print(\"this text is not spam\")"
   ]
  },
  {
   "cell_type": "code",
   "execution_count": 9,
   "id": "d26e2460",
   "metadata": {},
   "outputs": [
    {
     "name": "stdout",
     "output_type": "stream",
     "text": [
      "enter a name shubham bharat gadhave\n",
      "total character in name is more than 10\n"
     ]
    }
   ],
   "source": [
    "a = input(\"enter a name \")\n",
    "b=(len(a))\n",
    "if(b<10):\n",
    "    print(\"total character in name is less than 10\")\n",
    "else:\n",
    "    print(\"total character in name is more than 10\")"
   ]
  },
  {
   "cell_type": "code",
   "execution_count": 13,
   "id": "80081021",
   "metadata": {},
   "outputs": [
    {
     "name": "stdout",
     "output_type": "stream",
     "text": [
      "enter name shubham\n",
      "True\n"
     ]
    }
   ],
   "source": [
    "# programm to find that is there given name present in list or not\n",
    "a = [\"shubham\" , \"papa\" , \"aai\" , \"didi\"]\n",
    "b = input(\"enter name \")\n",
    "print(b in a)\n",
    "  "
   ]
  },
  {
   "cell_type": "code",
   "execution_count": 17,
   "id": "8a342fe9",
   "metadata": {},
   "outputs": [
    {
     "name": "stdout",
     "output_type": "stream",
     "text": [
      "enter marks 40\n",
      "Fail\n"
     ]
    }
   ],
   "source": [
    "a = int(input(\"enter marks \"))\n",
    "if(a>=90 and a<=100):\n",
    "    print(\"EX\")\n",
    "if(a>=80 and a<=90):\n",
    "    print(\"A\")\n",
    "if(a>=70 and a<=80):\n",
    "    print(\"B\")\n",
    "if(a>=60 and a<=70):\n",
    "    print(\"C\")\n",
    "if(a>=50 and a<=60):\n",
    "    print(\"D\")\n",
    "if(a<50):\n",
    "    print(\"Fail\")"
   ]
  },
  {
   "cell_type": "code",
   "execution_count": 1,
   "id": "c0923950",
   "metadata": {},
   "outputs": [
    {
     "ename": "SyntaxError",
     "evalue": "invalid syntax (Temp/ipykernel_8968/265658020.py, line 4)",
     "output_type": "error",
     "traceback": [
      "\u001b[1;36m  File \u001b[1;32m\"C:\\Users\\Shubham\\AppData\\Local\\Temp/ipykernel_8968/265658020.py\"\u001b[1;36m, line \u001b[1;32m4\u001b[0m\n\u001b[1;33m    print(c)\u001b[0m\n\u001b[1;37m    ^\u001b[0m\n\u001b[1;31mSyntaxError\u001b[0m\u001b[1;31m:\u001b[0m invalid syntax\n"
     ]
    }
   ],
   "source": [
    "# is given ost is about shubham or not\n",
    "a = (\"my name is shubham im here to talk about the my experience with python programming\")\n",
    "c = int(a.find(\"shubham\")\n",
    "print(c)\n",
    "# if (c == 0):\n",
    "#     print(\"post is not talking about shubham\")\n",
    "# else:\n",
    "#     print(\"post is alking about shubham\")"
   ]
  },
  {
   "cell_type": "code",
   "execution_count": null,
   "id": "86317838",
   "metadata": {},
   "outputs": [],
   "source": []
  }
 ],
 "metadata": {
  "kernelspec": {
   "display_name": "Python 3 (ipykernel)",
   "language": "python",
   "name": "python3"
  },
  "language_info": {
   "codemirror_mode": {
    "name": "ipython",
    "version": 3
   },
   "file_extension": ".py",
   "mimetype": "text/x-python",
   "name": "python",
   "nbconvert_exporter": "python",
   "pygments_lexer": "ipython3",
   "version": "3.9.7"
  }
 },
 "nbformat": 4,
 "nbformat_minor": 5
}
