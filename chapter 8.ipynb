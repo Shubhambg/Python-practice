{
 "cells": [
  {
   "cell_type": "code",
   "execution_count": null,
   "id": "61d1e2e2",
   "metadata": {},
   "outputs": [],
   "source": [
    "#                            chaopter - 8 \n",
    "#                        function and Recursion \n",
    "# A function is a group of statment performing specific task"
   ]
  },
  {
   "cell_type": "code",
   "execution_count": null,
   "id": "82b2502a",
   "metadata": {},
   "outputs": [],
   "source": [
    "# when program gets bigger in sign its complexity grows,-----\n",
    "# --- it gets diffecult for a programmer to keep track on which piece of code is doing what"
   ]
  },
  {
   "cell_type": "code",
   "execution_count": 2,
   "id": "188f2775",
   "metadata": {},
   "outputs": [
    {
     "name": "stdout",
     "output_type": "stream",
     "text": [
      "71.5 84.75\n"
     ]
    }
   ],
   "source": [
    "marks = [45, 78, 86, 77]\n",
    "percentage1 = (sum(marks)/400)*100\n",
    "\n",
    "marks2 = [75,98,88,78]\n",
    "percentage2 = (sum(marks2)/400)*100\n",
    "print(percentage1,percentage2)"
   ]
  },
  {
   "cell_type": "code",
   "execution_count": 9,
   "id": "478aaea9",
   "metadata": {},
   "outputs": [],
   "source": [
    "def percent(marks):\n",
    "    p = ((marks[0] + marks[1] + marks[2] + marks[3])/400)*100\n",
    "    return p\n",
    "\n",
    "marks1= [45, 78, 86, 77]\n",
    "percentage1 = percent(marks1)\n",
    "\n",
    "marks2 = [75,98,88,78]\n",
    "percentage2 = percent(marks2)"
   ]
  },
  {
   "cell_type": "code",
   "execution_count": 11,
   "id": "c75aefdd",
   "metadata": {},
   "outputs": [
    {
     "name": "stdout",
     "output_type": "stream",
     "text": [
      "Good Day, shubham\n"
     ]
    }
   ],
   "source": [
    "# function call\n",
    "def greet(name):\n",
    "              print(\"Good Day, \"+ name)\n",
    "greet (\"shubham\")"
   ]
  },
  {
   "cell_type": "code",
   "execution_count": 13,
   "id": "eaea2226",
   "metadata": {},
   "outputs": [
    {
     "name": "stdout",
     "output_type": "stream",
     "text": [
      "45453\n"
     ]
    }
   ],
   "source": [
    "def num(a):\n",
    "    print(a + a + a )\n",
    "num(15151)"
   ]
  },
  {
   "cell_type": "code",
   "execution_count": 4,
   "id": "64a9df0b",
   "metadata": {},
   "outputs": [
    {
     "name": "stdout",
     "output_type": "stream",
     "text": [
      "good day, stranger\n"
     ]
    }
   ],
   "source": [
    "####                           defoult parameter value\n",
    "def greet (name=\"stranger\"):\n",
    "        print(\"good day, \"+ name)\n",
    "greet() #### defoult parameter value \n",
    "# we can have value as defoult argument in a function \n",
    "# if we specify name = 'stenger' in the line catogry dif, this value is used \n",
    "# when this value is used when no argument is passed "
   ]
  },
  {
   "cell_type": "code",
   "execution_count": null,
   "id": "d5f211cc",
   "metadata": {},
   "outputs": [],
   "source": [
    "#                              Recursion\n",
    "#  recuesion is a function which calls itself it is used ----\n",
    "# ---to directly use a mathematical formula\n",
    "# function (n) = n X factorial (n-1)"
   ]
  },
  {
   "cell_type": "code",
   "execution_count": 4,
   "id": "c7ced733",
   "metadata": {},
   "outputs": [
    {
     "name": "stdout",
     "output_type": "stream",
     "text": [
      "120\n"
     ]
    }
   ],
   "source": [
    "# n! = 1 * 2 * 3 * 4 .....n\n",
    "n = 5\n",
    "product = 1\n",
    "for i in range (n):\n",
    "    product = product * (i+1)\n",
    "print(product)"
   ]
  },
  {
   "cell_type": "code",
   "execution_count": 11,
   "id": "9d7cd8c2",
   "metadata": {},
   "outputs": [
    {
     "name": "stdout",
     "output_type": "stream",
     "text": [
      "1\n"
     ]
    }
   ],
   "source": [
    "def factorial_iter(n):\n",
    "    product = 1\n",
    "    for i in range (n):\n",
    "        product = product * (i+1)\n",
    "        return product\n",
    "def factorial_recursive(n):\n",
    "    return n * factorial_recursive(n-1)\n",
    "\n",
    "f = factorial_iter(5)\n",
    "print(f)"
   ]
  },
  {
   "cell_type": "code",
   "execution_count": 9,
   "id": "4c5edfdd",
   "metadata": {},
   "outputs": [
    {
     "ename": "SyntaxError",
     "evalue": "cannot assign to literal (Temp/ipykernel_11716/1605425798.py, line 3)",
     "output_type": "error",
     "traceback": [
      "\u001b[1;36m  File \u001b[1;32m\"C:\\Users\\Shubham\\AppData\\Local\\Temp/ipykernel_11716/1605425798.py\"\u001b[1;36m, line \u001b[1;32m3\u001b[0m\n\u001b[1;33m    for 1 in range(n):\u001b[0m\n\u001b[1;37m        ^\u001b[0m\n\u001b[1;31mSyntaxError\u001b[0m\u001b[1;31m:\u001b[0m cannot assign to literal\n"
     ]
    }
   ],
   "source": [
    "def factorial_iter(n):\n",
    "    product = 1\n",
    "    for 1 in range(n):\n",
    "        product = product * (i+1)\n",
    "    return product\n",
    "\n",
    "def factorial_resursive(n):\n",
    "    if i == 1 or n == 0:\n",
    "        return 1\n",
    "    return n * factorial_recursive(n-1)\n",
    "\n",
    "f = factorial_recursive(0)\n",
    "print(f)"
   ]
  },
  {
   "cell_type": "code",
   "execution_count": 10,
   "id": "0b79822c",
   "metadata": {},
   "outputs": [],
   "source": [
    "# the programm ned to be extremly carful while working with \n",
    "# recursion to ensure the function dosent infinitly keep calling itself reursion \n",
    "# is sometimes the direct way to code as algorithm ."
   ]
  },
  {
   "cell_type": "code",
   "execution_count": 17,
   "id": "0f9fec4c",
   "metadata": {},
   "outputs": [
    {
     "name": "stdout",
     "output_type": "stream",
     "text": [
      "the value of the maximum is 22\n"
     ]
    }
   ],
   "source": [
    "#                               practice set\n",
    "# que no 1\n",
    "# gretest of three\n",
    "def maximum(num1, num2, num3):\n",
    "    if (num1>num2):\n",
    "        if(num1>num3):\n",
    "            return num1\n",
    "        else:\n",
    "            return num3\n",
    "    else:\n",
    "        if(num2>num3):\n",
    "            return num2\n",
    "        else:\n",
    "            return num3\n",
    "m = maximum(1,5,22)\n",
    "print(\"the value of the maximum is \" + str(m))"
   ]
  },
  {
   "cell_type": "code",
   "execution_count": 19,
   "id": "5aa822ae",
   "metadata": {},
   "outputs": [
    {
     "name": "stdout",
     "output_type": "stream",
     "text": [
      "Fahrenhiet temprature is 32.0\n"
     ]
    }
   ],
   "source": [
    "def farh(cel):\n",
    "    return (cel * (9/5)) + 32\n",
    "c  = 0\n",
    "f = farh (c)\n",
    "print (\"Fahrenhiet temprature is \"+ str(f))\n",
    "    \n"
   ]
  },
  {
   "cell_type": "code",
   "execution_count": 23,
   "id": "6206d61c",
   "metadata": {},
   "outputs": [
    {
     "name": "stdout",
     "output_type": "stream",
     "text": [
      "hello how are you ? "
     ]
    }
   ],
   "source": [
    "print(\"hello\", end =\" \")\n",
    "print(\"how\", end =\" \")\n",
    "print(\"are\", end =\" \")\n",
    "print(\"you ?\", end =\" \")"
   ]
  },
  {
   "cell_type": "code",
   "execution_count": 25,
   "id": "a595fc0e",
   "metadata": {},
   "outputs": [
    {
     "name": "stdout",
     "output_type": "stream",
     "text": [
      "**********\n",
      "*********\n",
      "********\n",
      "*******\n",
      "******\n",
      "*****\n",
      "****\n",
      "***\n",
      "**\n",
      "*\n"
     ]
    }
   ],
   "source": [
    "n = 10\n",
    "for i in range(n):\n",
    "    print(\"*\" * (n-i)) # print(*) n-i times"
   ]
  },
  {
   "cell_type": "code",
   "execution_count": 30,
   "id": "d1cc2b88",
   "metadata": {},
   "outputs": [
    {
     "ename": "SyntaxError",
     "evalue": "invalid syntax (Temp/ipykernel_11716/2555796090.py, line 5)",
     "output_type": "error",
     "traceback": [
      "\u001b[1;36m  File \u001b[1;32m\"C:\\Users\\Shubham\\AppData\\Local\\Temp/ipykernel_11716/2555796090.py\"\u001b[1;36m, line \u001b[1;32m5\u001b[0m\n\u001b[1;33m    remove_and split(this,\"shubham\")\u001b[0m\n\u001b[1;37m               ^\u001b[0m\n\u001b[1;31mSyntaxError\u001b[0m\u001b[1;31m:\u001b[0m invalid syntax\n"
     ]
    }
   ],
   "source": [
    "def remove_and_split(string, word):\n",
    "    newStr = string.replace(word,\" \")\n",
    "    return newStr.split()\n",
    "this = \"              shubham is good               \"\n",
    "remove_and split(this,\"shubham\")\n",
    "print(this)\n",
    "print(this.strip())"
   ]
  }
 ],
 "metadata": {
  "kernelspec": {
   "display_name": "Python 3 (ipykernel)",
   "language": "python",
   "name": "python3"
  },
  "language_info": {
   "codemirror_mode": {
    "name": "ipython",
    "version": 3
   },
   "file_extension": ".py",
   "mimetype": "text/x-python",
   "name": "python",
   "nbconvert_exporter": "python",
   "pygments_lexer": "ipython3",
   "version": "3.9.7"
  }
 },
 "nbformat": 4,
 "nbformat_minor": 5
}
